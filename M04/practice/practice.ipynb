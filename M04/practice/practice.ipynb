{
 "cells": [
  {
   "cell_type": "code",
   "execution_count": 8,
   "id": "230fae92-392f-4932-9b73-a9e4e9b392e9",
   "metadata": {},
   "outputs": [],
   "source": [
    "import requests\n",
    "import json\n",
    "import numpy as np\n",
    "import pandas as pd"
   ]
  },
  {
   "cell_type": "code",
   "execution_count": 9,
   "id": "b13baaf7-7b99-41ca-82e9-27607ceec5df",
   "metadata": {},
   "outputs": [
    {
     "data": {
      "text/plain": [
       "<Response [200]>"
      ]
     },
     "execution_count": 9,
     "metadata": {},
     "output_type": "execute_result"
    }
   ],
   "source": [
    "r = requests.get(\"https://en.wikipedia.org/w/api.php\")\n",
    "r"
   ]
  },
  {
   "cell_type": "code",
   "execution_count": 10,
   "id": "cd8b5f15-6510-413f-8ed0-b6a389686795",
   "metadata": {},
   "outputs": [
    {
     "data": {
      "text/plain": [
       "<Response [200]>"
      ]
     },
     "execution_count": 10,
     "metadata": {},
     "output_type": "execute_result"
    }
   ],
   "source": [
    "p_dict = {'action': 'query',\n",
    "         'prop': 'revisions',\n",
    "          'titles': 'University_of_Virginia',\n",
    "          'rvslots': '*',\n",
    "          'rvprop': 'content',\n",
    "          'formatversion': '2',\n",
    "          'format': 'json'}\n",
    "r = requests.get(\"https://en.wikipedia.org/w/api.php\", params = p_dict)\n",
    "r"
   ]
  },
  {
   "cell_type": "code",
   "execution_count": 11,
   "id": "c85a8af1-e78a-4c48-8bdd-c96be4f83339",
   "metadata": {},
   "outputs": [],
   "source": [
    "uva_wiki = json.loads(r.text)"
   ]
  },
  {
   "cell_type": "code",
   "execution_count": 12,
   "id": "74be386f-1da4-44f4-b367-76953607b5d4",
   "metadata": {},
   "outputs": [
    {
     "name": "stdout",
     "output_type": "stream",
     "text": [
      "Cavalier Daily]]''\n",
      " | colors                 = Orange and blue<ref name= \"colors\">{{cite book |title = Colors &#124; University of Virginia |url = https://brand.virginia.edu/brand-essentials/colors |date = October 17, 2017 |access-date = November 14, 2017 |archive-date = June 22, 2022 |archive-url = https://web.archive.org/web/20220622182621/https://brand.virginia.edu/brand-essentials/colors |url-status = live }}</ref><br>{{color box|#E57200}} {{color box|#232D4B}}\n",
      " | nickname               = {{hlist|[[Virginia Cavaliers|Cavaliers]]|[[Wahoos]]}}\n",
      " | mascot                 = [[Cavalier]]\n",
      " | sporting_affiliations  = [[NCAA Division I FBS]] – [[Atlantic Coast Conference|ACC]]\n",
      " | website                = {{URL|https://www.virginia.edu|virginia.edu}}\n",
      " | embedded               = {{designation list | embed = yes\n",
      "   | designation1 = WHS\n",
      "   | designation1_offname = [[Monticello]] and the '''University of Virginia''' in Charlottesville\n",
      "   | designation1_type = Cultural\n",
      "   | designation1_criteria \n"
     ]
    }
   ],
   "source": [
    "uva_text = uva_wiki['query']['pages'][0]['revisions'][0]['slots']['main']['content']\n",
    "print(str(uva_text)[6000:7000])"
   ]
  },
  {
   "cell_type": "code",
   "execution_count": 19,
   "id": "6767ac73-5801-41ec-b77a-95d2877615c5",
   "metadata": {},
   "outputs": [],
   "source": [
    "import os\n",
    "import dotenv\n",
    "dotenv.load_dotenv()\n",
    "\n",
    "CensusKey = os.getenv('CensusKey')"
   ]
  },
  {
   "cell_type": "code",
   "execution_count": 20,
   "id": "8adc2f39-c112-4b74-8da3-2f8ae83e6342",
   "metadata": {},
   "outputs": [],
   "source": [
    "mydict = {'get':'GEO_ID,POP',\n",
    "         'for':'state:*',\n",
    "         'key':CensusKey}"
   ]
  },
  {
   "cell_type": "code",
   "execution_count": 21,
   "id": "bfe2943e-97e1-4180-80a2-edaeacc8e225",
   "metadata": {},
   "outputs": [
    {
     "data": {
      "text/plain": [
       "<Response [200]>"
      ]
     },
     "execution_count": 21,
     "metadata": {},
     "output_type": "execute_result"
    }
   ],
   "source": [
    "r = requests.get(\"https://api.census.gov/data/2019/pep/charagegroups\", params=mydict)\n",
    "r"
   ]
  },
  {
   "cell_type": "code",
   "execution_count": 22,
   "id": "662dfd6f-448a-4445-8536-e568f8ad51e6",
   "metadata": {},
   "outputs": [
    {
     "data": {
      "text/plain": [
       "'\\n<html style=\"font-size: 14px;\">\\n    <head>\\n        <title>Invalid Key</title>\\n        <link rel=\"icon\" type=\"image/x-icon\" href=\"favicon.ico\">\\n        <link rel=\"stylesheet\" type=\"text/css\" href=\"assets/styles.css\">\\n        <script type=\"text/javascript\" src=\"assets/jquery-1.4.4.min.js\"></script>\\n        <script type=\"text/javascript\">\\n            $(document).ready(function() {\\n                $(\".menu-activator\").click(function() {\\n                    $(\".gov-menu\").toggle()\\n                    $(\".chevron\").toggleClass(\\'rotate\\')\\n                })                \\n            })\\n        </script>\\n    </head>\\n    <body>\\n        <header>\\n            <div data-v-8adc6fed=\"\" data-v-2f72e816=\"\" class=\"gov-banner noprint\">\\n                <div data-v-8adc6fed=\"\" class=\"aqua-layout horizontal align-start justify-start banner-header\">\\n                    <img data-v-8adc6fed=\"\" src=\"data:image/png;base64,iVBORw0KGgoAAAANSUhEUgAAABAAAAALCAMAAABBPP0LAAAAG1BMVEUdM7EeNLIeM7HgQCDaPh/bPh/bPx/////bPyBEby41AAAAUElEQVQI123MNw4CABDEwD3jC/9/MQ1BQrgeOSkIqYe2o2FZtthXgQLgbHVMZdlsfUQFQnHtjP1+8BUhBDKOqtmfot6ojqPzR7TjdU+f6vkED+IDPhTBcMAAAAAASUVORK5CYII=\" alt=\"U.S flag\" class=\"usflag\" role=\"img\" aria-hidden=\"true\">\\n                    <span data-v-8adc6fed=\"\">\\n                        <div data-v-8adc6fed=\"\" class=\"aqua-layout horizontal\" tabindex=\"0\">\\n                            <div data-v-8adc6fed=\"\" tabindex=\"0\" aria-label=\"An official website of the United States government\"> \\n                                An official website of the United States government \\n                            </div>\\n                            <div data-v-8adc6fed=\"\" class=\"menu-activator\" aria-label=\"Here\\'s how you know. Press enter for more information.\" tabindex=\"0\">\\n                                <div data-v-8adc6fed=\"\" class=\"aqua-layout horizontal justify-start\"> Here&rsquo;s how you know <div data-v-8adc6fed=\"\" class=\"chevron\"><img  data-v-8adc6fed=\"\" class=\"aqua-icon\" src=\"assets/images/chevron-down.svg\" style=\"width: 0.75rem; height: 0.75rem; max-height: 0.75rem; transition: all 500ms ease 0s; filter: invert(30%) sepia(8%) saturate(3837%) hue-rotate(171deg) brightness(99%) contrast(89%);\"></div>\\n                                </div>\\n                            </div>\\n                        </div>\\n                    </span>\\n                </div>\\n                <div data-v-8adc6fed=\"\" class=\"aqua-layout horizontal justify-start gov-menu\" style=\"display: none;\"><div data-v-8adc6fed=\"\" class=\"aqua-layout horizontal justify-start menu-paragraph\"><img data-v-8adc6fed=\"\" class=\"menu-svg\" src=\"assets/images/icon-gov-building.svg\" role=\"img\" alt=\"government building image\" aria-hidden=\"true\"><div data-v-8adc6fed=\"\" tabindex=\"0\" aria-label=\"Official websites use .gov. A .gov website belongs to an official government\\n                organization in the United States.\"><strong data-v-8adc6fed=\"\"> Official websites use .gov </strong>\\n                <br data-v-8adc6fed=\"\"> A <strong data-v-8adc6fed=\"\">.gov</strong> website belongs to an official government organization in the United States. </div>\\n            </div>\\n            <div data-v-8adc6fed=\"\" class=\"aqua-layout horizontal justify-start menu-paragraph\"><img data-v-8adc6fed=\"\" class=\"menu-svg\" src=\"assets/images/icon-lock.svg\" role=\"img\" alt=\"lock image\" aria-hidden=\"true\">\\n                <div data-v-8adc6fed=\"\" tabindex=\"0\" aria-label=\"Secure .gov websites use HTTPS. A lock or https:// means youâ\\x80\\x99ve safely connected to the\\n                .gov website. Share sensitive information only on official, secure\\n                websites.\"><strong data-v-8adc6fed=\"\"> Secure .gov websites use HTTPS </strong>\\n                <br data-v-8adc6fed=\"\"> A <strong data-v-8adc6fed=\"\">lock</strong> ( <img data-v-8adc6fed=\"\" class=\"menu-lock\" src=\"assets/images/lock.svg\" role=\"img\" alt=\"lock image\" aria-hidden=\"true\"> ) or <strong data-v-8adc6fed=\"\">https://</strong> means you&lsquo;ve safely connected to the .gov website. Share sensitive information only on official, secure websites. </div>\\n            </div>\\n        </div>\\n    </div>\\n    <div data-v-beed8774=\"\" data-v-2f72e816=\"\" role=\"banner\" class=\"AppHeader noprint\" aqua-relative=\"\">\\n        <div data-v-beed8774=\"\" class=\"aqua-layout horizontal align-center justify-center\"><!---->\\n            <div data-v-beed8774=\"\" class=\"aqua-flex\" style=\"flex: 0 0 auto;\">\\n                <div data-v-beed8774=\"\" class=\"aqua-layout vertical\">\\n                    <div data-v-beed8774=\"\" class=\"logoArea\">\\n                        <a data-v-fb9b02c5=\"\" data-v-beed8774=\"\" href=\"/\" class=\"\" id=\"census-home-link\">\\n                            <div data-v-fb9b02c5=\"\" style=\"display: none;\"></div>\\n                            <img data-v-beed8774=\"\" class=\"header-logo\" src=\"assets/images/census-logo-gray.svg\" alt=\"United States Census Bureau - Census Data Homepage\">\\n                        </a>\\n                    </div>\\n                </div>\\n            </div><!----><!---->\\n            <div data-v-beed8774=\"\" class=\"aqua-layout vertical\"></div>\\n        </div>\\n    </div>\\n</div>\\n</header>\\n<div class=\"flex-container content\">\\n    <div class=\"content-wrap center\">\\n        <h1>Invalid Key</h1>\\n        <p>\\n            A valid <em>key</em> must be included with each data API request.\\n            You included a key with this request, however, it is not valid.\\n            Please check your key and try again.\\n        </p>\\n        <p>\\n            If you do not have a key you may sign up for one <a href=\"key_signup.html\">here</a>.\\n        </p>\\n    </div>      \\n</div>\\n\\n<div data-v-56f1d3f7=\"\" class=\"aqua-flex\" style=\"flex: 0 0 auto;\">\\n    <footer data-v-db923c0a=\"\" data-v-56f1d3f7=\"\" class=\"PageFooter\">\\n        <div data-v-db923c0a=\"\" class=\"aqua-layout align-center justify-center links aqua-text-caption\">\\n            <a data-v-db923c0a=\"\" target=\"_blank\" href=\"https://www.census.gov/about/policies/section-508.html\">Accessibility</a>\\n            <span data-v-db923c0a=\"\" aria-hidden=\"true\">&nbsp;|&nbsp;</span>\\n            <a data-v-db923c0a=\"\" target=\"_blank\" href=\"https://www.census.gov/quality/\">Information Quality</a>\\n            <span data-v-db923c0a=\"\" aria-hidden=\"true\">&nbsp;|&nbsp;</span>\\n            <a data-v-db923c0a=\"\" target=\"_blank\" href=\"https://www.census.gov/foia/\">FOIA</a>\\n            <span data-v-db923c0a=\"\" aria-hidden=\"true\">&nbsp;|&nbsp;</span>\\n            <a data-v-db923c0a=\"\" target=\"_blank\" href=\"https://www.census.gov/privacy/\">Data Protection and Privacy Policy</a>\\n            <span data-v-db923c0a=\"\" aria-hidden=\"true\">&nbsp;|&nbsp;</span>\\n            <a data-v-db923c0a=\"\" target=\"_blank\" href=\"https://www.commerce.gov/\">U.S. Department of Commerce</a>\\n            <span data-v-db923c0a=\"\" aria-hidden=\"true\">&nbsp;|&nbsp;</span>\\n            <a data-v-db923c0a=\"\" target=\"_blank\" href=\"https://www2.census.gov/data/api-documentation/data-census-gov-release-notes.pdf?#\">Release Notes</a>\\n        </div>\\n    </footer>\\n</div>\\n\\n\\n    </body>\\n</html>\\n'"
      ]
     },
     "execution_count": 22,
     "metadata": {},
     "output_type": "execute_result"
    }
   ],
   "source": [
    "r.text"
   ]
  },
  {
   "cell_type": "code",
   "execution_count": 23,
   "id": "5e0fcba0-4727-4c41-91e7-58fd7ed31f78",
   "metadata": {},
   "outputs": [
    {
     "ename": "JSONDecodeError",
     "evalue": "Expecting value: line 2 column 1 (char 1)",
     "output_type": "error",
     "traceback": [
      "\u001b[0;31m---------------------------------------------------------------------------\u001b[0m",
      "\u001b[0;31mJSONDecodeError\u001b[0m                           Traceback (most recent call last)",
      "Cell \u001b[0;32mIn[23], line 1\u001b[0m\n\u001b[0;32m----> 1\u001b[0m statepop \u001b[38;5;241m=\u001b[39m \u001b[43mjson\u001b[49m\u001b[38;5;241;43m.\u001b[39;49m\u001b[43mloads\u001b[49m\u001b[43m(\u001b[49m\u001b[43mr\u001b[49m\u001b[38;5;241;43m.\u001b[39;49m\u001b[43mtext\u001b[49m\u001b[43m)\u001b[49m\n\u001b[1;32m      2\u001b[0m statepopDF \u001b[38;5;241m=\u001b[39m pd\u001b[38;5;241m.\u001b[39mDataFrame(statepop[\u001b[38;5;241m1\u001b[39m:], columns\u001b[38;5;241m=\u001b[39mstatepop[\u001b[38;5;241m0\u001b[39m])\n\u001b[1;32m      3\u001b[0m statepopDF\n",
      "File \u001b[0;32m/Library/Frameworks/Python.framework/Versions/3.12/lib/python3.12/json/__init__.py:346\u001b[0m, in \u001b[0;36mloads\u001b[0;34m(s, cls, object_hook, parse_float, parse_int, parse_constant, object_pairs_hook, **kw)\u001b[0m\n\u001b[1;32m    341\u001b[0m     s \u001b[38;5;241m=\u001b[39m s\u001b[38;5;241m.\u001b[39mdecode(detect_encoding(s), \u001b[38;5;124m'\u001b[39m\u001b[38;5;124msurrogatepass\u001b[39m\u001b[38;5;124m'\u001b[39m)\n\u001b[1;32m    343\u001b[0m \u001b[38;5;28;01mif\u001b[39;00m (\u001b[38;5;28mcls\u001b[39m \u001b[38;5;129;01mis\u001b[39;00m \u001b[38;5;28;01mNone\u001b[39;00m \u001b[38;5;129;01mand\u001b[39;00m object_hook \u001b[38;5;129;01mis\u001b[39;00m \u001b[38;5;28;01mNone\u001b[39;00m \u001b[38;5;129;01mand\u001b[39;00m\n\u001b[1;32m    344\u001b[0m         parse_int \u001b[38;5;129;01mis\u001b[39;00m \u001b[38;5;28;01mNone\u001b[39;00m \u001b[38;5;129;01mand\u001b[39;00m parse_float \u001b[38;5;129;01mis\u001b[39;00m \u001b[38;5;28;01mNone\u001b[39;00m \u001b[38;5;129;01mand\u001b[39;00m\n\u001b[1;32m    345\u001b[0m         parse_constant \u001b[38;5;129;01mis\u001b[39;00m \u001b[38;5;28;01mNone\u001b[39;00m \u001b[38;5;129;01mand\u001b[39;00m object_pairs_hook \u001b[38;5;129;01mis\u001b[39;00m \u001b[38;5;28;01mNone\u001b[39;00m \u001b[38;5;129;01mand\u001b[39;00m \u001b[38;5;129;01mnot\u001b[39;00m kw):\n\u001b[0;32m--> 346\u001b[0m     \u001b[38;5;28;01mreturn\u001b[39;00m \u001b[43m_default_decoder\u001b[49m\u001b[38;5;241;43m.\u001b[39;49m\u001b[43mdecode\u001b[49m\u001b[43m(\u001b[49m\u001b[43ms\u001b[49m\u001b[43m)\u001b[49m\n\u001b[1;32m    347\u001b[0m \u001b[38;5;28;01mif\u001b[39;00m \u001b[38;5;28mcls\u001b[39m \u001b[38;5;129;01mis\u001b[39;00m \u001b[38;5;28;01mNone\u001b[39;00m:\n\u001b[1;32m    348\u001b[0m     \u001b[38;5;28mcls\u001b[39m \u001b[38;5;241m=\u001b[39m JSONDecoder\n",
      "File \u001b[0;32m/Library/Frameworks/Python.framework/Versions/3.12/lib/python3.12/json/decoder.py:337\u001b[0m, in \u001b[0;36mJSONDecoder.decode\u001b[0;34m(self, s, _w)\u001b[0m\n\u001b[1;32m    332\u001b[0m \u001b[38;5;28;01mdef\u001b[39;00m \u001b[38;5;21mdecode\u001b[39m(\u001b[38;5;28mself\u001b[39m, s, _w\u001b[38;5;241m=\u001b[39mWHITESPACE\u001b[38;5;241m.\u001b[39mmatch):\n\u001b[1;32m    333\u001b[0m \u001b[38;5;250m    \u001b[39m\u001b[38;5;124;03m\"\"\"Return the Python representation of ``s`` (a ``str`` instance\u001b[39;00m\n\u001b[1;32m    334\u001b[0m \u001b[38;5;124;03m    containing a JSON document).\u001b[39;00m\n\u001b[1;32m    335\u001b[0m \n\u001b[1;32m    336\u001b[0m \u001b[38;5;124;03m    \"\"\"\u001b[39;00m\n\u001b[0;32m--> 337\u001b[0m     obj, end \u001b[38;5;241m=\u001b[39m \u001b[38;5;28;43mself\u001b[39;49m\u001b[38;5;241;43m.\u001b[39;49m\u001b[43mraw_decode\u001b[49m\u001b[43m(\u001b[49m\u001b[43ms\u001b[49m\u001b[43m,\u001b[49m\u001b[43m \u001b[49m\u001b[43midx\u001b[49m\u001b[38;5;241;43m=\u001b[39;49m\u001b[43m_w\u001b[49m\u001b[43m(\u001b[49m\u001b[43ms\u001b[49m\u001b[43m,\u001b[49m\u001b[43m \u001b[49m\u001b[38;5;241;43m0\u001b[39;49m\u001b[43m)\u001b[49m\u001b[38;5;241;43m.\u001b[39;49m\u001b[43mend\u001b[49m\u001b[43m(\u001b[49m\u001b[43m)\u001b[49m\u001b[43m)\u001b[49m\n\u001b[1;32m    338\u001b[0m     end \u001b[38;5;241m=\u001b[39m _w(s, end)\u001b[38;5;241m.\u001b[39mend()\n\u001b[1;32m    339\u001b[0m     \u001b[38;5;28;01mif\u001b[39;00m end \u001b[38;5;241m!=\u001b[39m \u001b[38;5;28mlen\u001b[39m(s):\n",
      "File \u001b[0;32m/Library/Frameworks/Python.framework/Versions/3.12/lib/python3.12/json/decoder.py:355\u001b[0m, in \u001b[0;36mJSONDecoder.raw_decode\u001b[0;34m(self, s, idx)\u001b[0m\n\u001b[1;32m    353\u001b[0m     obj, end \u001b[38;5;241m=\u001b[39m \u001b[38;5;28mself\u001b[39m\u001b[38;5;241m.\u001b[39mscan_once(s, idx)\n\u001b[1;32m    354\u001b[0m \u001b[38;5;28;01mexcept\u001b[39;00m \u001b[38;5;167;01mStopIteration\u001b[39;00m \u001b[38;5;28;01mas\u001b[39;00m err:\n\u001b[0;32m--> 355\u001b[0m     \u001b[38;5;28;01mraise\u001b[39;00m JSONDecodeError(\u001b[38;5;124m\"\u001b[39m\u001b[38;5;124mExpecting value\u001b[39m\u001b[38;5;124m\"\u001b[39m, s, err\u001b[38;5;241m.\u001b[39mvalue) \u001b[38;5;28;01mfrom\u001b[39;00m \u001b[38;5;28;01mNone\u001b[39;00m\n\u001b[1;32m    356\u001b[0m \u001b[38;5;28;01mreturn\u001b[39;00m obj, end\n",
      "\u001b[0;31mJSONDecodeError\u001b[0m: Expecting value: line 2 column 1 (char 1)"
     ]
    }
   ],
   "source": [
    "statepop = json.loads(r.text)\n",
    "statepopDF = pd.DataFrame(statepop[1:], columns=statepop[0])\n",
    "statepopDF"
   ]
  },
  {
   "cell_type": "code",
   "execution_count": null,
   "id": "6098b665-e0e7-4c46-975c-662049861b5a",
   "metadata": {},
   "outputs": [],
   "source": []
  }
 ],
 "metadata": {
  "kernelspec": {
   "display_name": "Python 3 (ipykernel)",
   "language": "python",
   "name": "python3"
  },
  "language_info": {
   "codemirror_mode": {
    "name": "ipython",
    "version": 3
   },
   "file_extension": ".py",
   "mimetype": "text/x-python",
   "name": "python",
   "nbconvert_exporter": "python",
   "pygments_lexer": "ipython3",
   "version": "3.12.4"
  }
 },
 "nbformat": 4,
 "nbformat_minor": 5
}
