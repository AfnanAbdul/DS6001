{
 "cells": [
  {
   "cell_type": "code",
   "execution_count": 1,
   "id": "976f1e7a-7005-4f95-90ed-c59484712845",
   "metadata": {},
   "outputs": [
    {
     "name": "stdout",
     "output_type": "stream",
     "text": [
      "15052\n"
     ]
    }
   ],
   "source": [
    "from datetime import datetime\n",
    "\n",
    "# Define the two dates\n",
    "launch_date = datetime(1977, 8, 20)\n",
    "interstellar_date = datetime(2018, 11, 5)\n",
    "\n",
    "# Calculate the difference in days\n",
    "difference = interstellar_date - launch_date\n",
    "total_days = difference.days\n",
    "\n",
    "print(total_days)\n"
   ]
  },
  {
   "cell_type": "code",
   "execution_count": null,
   "id": "30aa45e8-e042-4bdb-8be5-273e995acfe6",
   "metadata": {},
   "outputs": [],
   "source": []
  }
 ],
 "metadata": {
  "kernelspec": {
   "display_name": "Python 3 (ipykernel)",
   "language": "python",
   "name": "python3"
  },
  "language_info": {
   "codemirror_mode": {
    "name": "ipython",
    "version": 3
   },
   "file_extension": ".py",
   "mimetype": "text/x-python",
   "name": "python",
   "nbconvert_exporter": "python",
   "pygments_lexer": "ipython3",
   "version": "3.12.2"
  }
 },
 "nbformat": 4,
 "nbformat_minor": 5
}
