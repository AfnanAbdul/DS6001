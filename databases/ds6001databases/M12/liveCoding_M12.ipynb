{
 "cells": [
  {
   "cell_type": "code",
   "execution_count": 19,
   "id": "504c9f5a-6644-462e-862b-6385df4da653",
   "metadata": {},
   "outputs": [],
   "source": [
    "import pandas as pd\n",
    "import numpy as np\n",
    "import requests\n",
    "import json\n",
    "import plotly.express as px\n",
    "import plotly.io as pio         # imported to be able to show plot\n",
    "pio.renderers.default = 'iframe'"
   ]
  },
  {
   "cell_type": "code",
   "execution_count": 20,
   "id": "0bda1c59-8d80-4c3e-85aa-a62b70442e8a",
   "metadata": {},
   "outputs": [],
   "source": [
    "vacounties = pd.read_csv('vacounties.csv')"
   ]
  },
  {
   "cell_type": "markdown",
   "id": "ff0b0fb4-1e0e-485d-a777-92dd7cf2a1f0",
   "metadata": {},
   "source": [
    "# Choropleth map"
   ]
  },
  {
   "cell_type": "code",
   "execution_count": 21,
   "id": "c8cf5df7-3297-4822-b618-39794cd2125e",
   "metadata": {},
   "outputs": [],
   "source": [
    "url = 'https://raw.githubusercontent.com/plotly/datasets/master/geojson-counties-fips.json'\n",
    "r = requests.get(url)\n",
    "counties = json.loads(r.text) # geo json"
   ]
  },
  {
   "cell_type": "code",
   "execution_count": 26,
   "id": "318a54a3-0c6b-43e2-a5f4-1f0a454baae7",
   "metadata": {},
   "outputs": [
    {
     "data": {
      "text/plain": [
       "Index(['FIPS', 'Jurisdiction', 'Total Population',\n",
       "       'American Indian population', 'Asian population', 'Black population',\n",
       "       'Pacific Islander population', 'Two or more races population',\n",
       "       'White population', 'Hispanic population', 'Average Annual Pay',\n",
       "       'Percent without HS diploma', 'Percent with only HS diploma',\n",
       "       'Percent with some college', 'Percent with college degree',\n",
       "       'Number in poverty', 'Cost of living',\n",
       "       'Years of Potential Life Lost Rate', 'Percent Fair or Poor Health',\n",
       "       'Average Number of Mentally Unhealthy Days',\n",
       "       'Percent Adults Reporting Currently Smoking',\n",
       "       'Percent Adults with Obesity', 'Food Environment Index'],\n",
       "      dtype='object')"
      ]
     },
     "execution_count": 26,
     "metadata": {},
     "output_type": "execute_result"
    }
   ],
   "source": [
    "vacounties.columns"
   ]
  },
  {
   "cell_type": "code",
   "execution_count": 28,
   "id": "c694d223-0e4d-4c1d-a673-ab6182912754",
   "metadata": {},
   "outputs": [],
   "source": [
    "vacounties['Income_to_col'] = vacounties['Average Annual Pay']/vacounties['Cost of living']"
   ]
  },
  {
   "cell_type": "code",
   "execution_count": 29,
   "id": "1e9332ce-fbc3-4ff5-93a7-bd1bb341131a",
   "metadata": {},
   "outputs": [
    {
     "data": {
      "text/html": [
       "<iframe\n",
       "    scrolling=\"no\"\n",
       "    width=\"100%\"\n",
       "    height=\"545px\"\n",
       "    src=\"iframe_figures/figure_29.html\"\n",
       "    frameborder=\"0\"\n",
       "    allowfullscreen\n",
       "></iframe>\n"
      ]
     },
     "metadata": {},
     "output_type": "display_data"
    }
   ],
   "source": [
    "fig =  px.choropleth(vacounties,\n",
    "                    geojson = counties,\n",
    "                    color = 'Average Annual Pay',\n",
    "                    scope = 'usa',\n",
    "                    locations = 'FIPS',\n",
    "                    hover_name = 'Jurisdiction',\n",
    "                    color_continuous_scale = 'reds',\n",
    "                    hover_data = ['Total Population',\n",
    "                                  'Average Annual Pay',\n",
    "                                  'Cost of living',\n",
    "                                  'Income_to_col',\n",
    "                                  'Years of Potential Life Lost Rate',\n",
    "                                  'Food Environment Index'])\n",
    "fig.update_geos(fitbounds='locations')\n",
    "fig.show()"
   ]
  },
  {
   "cell_type": "code",
   "execution_count": 37,
   "id": "ae2a82c8-273e-4e54-a8fc-5fbf3059c234",
   "metadata": {},
   "outputs": [
    {
     "data": {
      "text/html": [
       "<iframe\n",
       "    scrolling=\"no\"\n",
       "    width=\"620px\"\n",
       "    height=\"620\"\n",
       "    src=\"iframe_figures/figure_37.html\"\n",
       "    frameborder=\"0\"\n",
       "    allowfullscreen\n",
       "></iframe>\n"
      ]
     },
     "metadata": {},
     "output_type": "display_data"
    }
   ],
   "source": [
    "# relationships\n",
    "px.scatter(vacounties,\n",
    "           y = 'Average Number of Mentally Unhealthy Days',\n",
    "           x = 'Average Annual Pay',\n",
    "           color = 'Cost of living',\n",
    "           hover_name = 'Jurisdiction',\n",
    "          trendline = 'ols',\n",
    "          width =  600,\n",
    "          height = 600) # or 'lowess'"
   ]
  },
  {
   "cell_type": "code",
   "execution_count": 39,
   "id": "8c106f96-cf3d-479c-be21-3cbfb6823012",
   "metadata": {},
   "outputs": [
    {
     "data": {
      "text/html": [
       "<div>\n",
       "<style scoped>\n",
       "    .dataframe tbody tr th:only-of-type {\n",
       "        vertical-align: middle;\n",
       "    }\n",
       "\n",
       "    .dataframe tbody tr th {\n",
       "        vertical-align: top;\n",
       "    }\n",
       "\n",
       "    .dataframe thead th {\n",
       "        text-align: right;\n",
       "    }\n",
       "</style>\n",
       "<table border=\"1\" class=\"dataframe\">\n",
       "  <thead>\n",
       "    <tr style=\"text-align: right;\">\n",
       "      <th></th>\n",
       "      <th>index</th>\n",
       "      <th>Jurisdiction</th>\n",
       "    </tr>\n",
       "  </thead>\n",
       "  <tbody>\n",
       "    <tr>\n",
       "      <th>0</th>\n",
       "      <td>0</td>\n",
       "      <td>Accomack County</td>\n",
       "    </tr>\n",
       "    <tr>\n",
       "      <th>1</th>\n",
       "      <td>1</td>\n",
       "      <td>Albemarle County</td>\n",
       "    </tr>\n",
       "    <tr>\n",
       "      <th>2</th>\n",
       "      <td>2</td>\n",
       "      <td>Alleghany County</td>\n",
       "    </tr>\n",
       "    <tr>\n",
       "      <th>3</th>\n",
       "      <td>3</td>\n",
       "      <td>Amelia County</td>\n",
       "    </tr>\n",
       "    <tr>\n",
       "      <th>4</th>\n",
       "      <td>4</td>\n",
       "      <td>Amherst County</td>\n",
       "    </tr>\n",
       "    <tr>\n",
       "      <th>...</th>\n",
       "      <td>...</td>\n",
       "      <td>...</td>\n",
       "    </tr>\n",
       "    <tr>\n",
       "      <th>128</th>\n",
       "      <td>128</td>\n",
       "      <td>Suffolk city</td>\n",
       "    </tr>\n",
       "    <tr>\n",
       "      <th>129</th>\n",
       "      <td>129</td>\n",
       "      <td>Virginia Beach city</td>\n",
       "    </tr>\n",
       "    <tr>\n",
       "      <th>130</th>\n",
       "      <td>130</td>\n",
       "      <td>Waynesboro city</td>\n",
       "    </tr>\n",
       "    <tr>\n",
       "      <th>131</th>\n",
       "      <td>131</td>\n",
       "      <td>Williamsburg city</td>\n",
       "    </tr>\n",
       "    <tr>\n",
       "      <th>132</th>\n",
       "      <td>132</td>\n",
       "      <td>Winchester city</td>\n",
       "    </tr>\n",
       "  </tbody>\n",
       "</table>\n",
       "<p>133 rows × 2 columns</p>\n",
       "</div>"
      ],
      "text/plain": [
       "     index         Jurisdiction\n",
       "0        0      Accomack County\n",
       "1        1     Albemarle County\n",
       "2        2     Alleghany County\n",
       "3        3        Amelia County\n",
       "4        4       Amherst County\n",
       "..     ...                  ...\n",
       "128    128         Suffolk city\n",
       "129    129  Virginia Beach city\n",
       "130    130      Waynesboro city\n",
       "131    131    Williamsburg city\n",
       "132    132      Winchester city\n",
       "\n",
       "[133 rows x 2 columns]"
      ]
     },
     "execution_count": 39,
     "metadata": {},
     "output_type": "execute_result"
    }
   ],
   "source": [
    "pd.set_option\n",
    "vacounties['Jurisdiction'].reset_index()"
   ]
  },
  {
   "cell_type": "code",
   "execution_count": 41,
   "id": "9746cf40-9c58-43ed-bf30-05fb554b7ad3",
   "metadata": {},
   "outputs": [],
   "source": [
    "vacounties['county'] = [x.endswith('County') for x in vacounties['Jurisdiction']]"
   ]
  },
  {
   "cell_type": "code",
   "execution_count": 46,
   "id": "ecdffccd-b255-4085-bf62-2668160fabec",
   "metadata": {},
   "outputs": [],
   "source": [
    "replace_map = {True: 'Counties',\n",
    "              False: 'Cities'}\n",
    "vacounties['county'] = vacounties['county'].replace(replace_map)"
   ]
  },
  {
   "cell_type": "code",
   "execution_count": 50,
   "id": "2ebf7fab-2621-4fcf-8492-5de49e946bbb",
   "metadata": {},
   "outputs": [
    {
     "data": {
      "text/html": [
       "<iframe\n",
       "    scrolling=\"no\"\n",
       "    width=\"100%\"\n",
       "    height=\"545px\"\n",
       "    src=\"iframe_figures/figure_50.html\"\n",
       "    frameborder=\"0\"\n",
       "    allowfullscreen\n",
       "></iframe>\n"
      ]
     },
     "metadata": {},
     "output_type": "display_data"
    }
   ],
   "source": [
    "fig  = px.box(vacounties,\n",
    "          x = 'Average Annual Pay',\n",
    "          y = 'county',\n",
    "          hover_name = 'Jurisdiction',\n",
    "          color = 'county')\n",
    "fig.update_layout(showlegend=False)\n",
    "fig.update_yaxes(title='')\n",
    "fig.show()"
   ]
  },
  {
   "cell_type": "code",
   "execution_count": 51,
   "id": "194fa423-8be6-47c8-b547-7bfbc1efe1bc",
   "metadata": {},
   "outputs": [
    {
     "data": {
      "text/html": [
       "<iframe\n",
       "    scrolling=\"no\"\n",
       "    width=\"100%\"\n",
       "    height=\"545px\"\n",
       "    src=\"iframe_figures/figure_51.html\"\n",
       "    frameborder=\"0\"\n",
       "    allowfullscreen\n",
       "></iframe>\n"
      ]
     },
     "metadata": {},
     "output_type": "display_data"
    }
   ],
   "source": [
    "fig  = px.violin(vacounties,\n",
    "          x = 'Average Annual Pay',\n",
    "          y = 'county',\n",
    "          hover_name = 'Jurisdiction',\n",
    "          color = 'county')\n",
    "fig.update_layout(showlegend=False)\n",
    "fig.update_yaxes(title='')\n",
    "fig.show()"
   ]
  },
  {
   "cell_type": "code",
   "execution_count": null,
   "id": "24e92f37-4afe-4c99-96f4-125e5f038698",
   "metadata": {},
   "outputs": [],
   "source": []
  }
 ],
 "metadata": {
  "kernelspec": {
   "display_name": "Python 3 (ipykernel)",
   "language": "python",
   "name": "python3"
  },
  "language_info": {
   "codemirror_mode": {
    "name": "ipython",
    "version": 3
   },
   "file_extension": ".py",
   "mimetype": "text/x-python",
   "name": "python",
   "nbconvert_exporter": "python",
   "pygments_lexer": "ipython3",
   "version": "3.12.2"
  }
 },
 "nbformat": 4,
 "nbformat_minor": 5
}
