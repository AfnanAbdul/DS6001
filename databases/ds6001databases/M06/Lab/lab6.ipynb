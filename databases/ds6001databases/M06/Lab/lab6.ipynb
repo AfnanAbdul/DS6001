{
 "cells": [
  {
   "cell_type": "markdown",
   "id": "a7cbb923-5b0c-462b-967c-6ce9c9dd46eb",
   "metadata": {},
   "source": [
    "#### Part a \n",
    "Rearrange the data into a group of data tables that together meet the requirements of first normal form. [2 points]"
   ]
  },
  {
   "cell_type": "markdown",
   "id": "ea140ff8-f199-4bc6-9243-d55c6c8cf715",
   "metadata": {},
   "source": [
    "To achieve First Normal Form (1NF) we need to ensure:\n",
    "1. Every table has a primary key\n",
    "2. All values are atomic\n",
    "3. There are no repeating groups\n",
    "\n",
    "Given theses criteria, here's how I will arrange the data into 1NF:\n",
    "1. Main Table:\n",
    "    * Primary Key: (patient_name, date_of_birth, prescribed_drug)\n",
    "    * All the colmns for the original table, except **prior_conditions**\n",
    "3. Conditions Table:\n",
    "    * Primary Key: (patient_name, date_of_birth, condition)\n",
    "    * patient_name\n",
    "    * date_of_birth\n",
    "    * conditon\n",
    "\n",
    "**prior_conditions** is a list in a single cell so seperating it into a new table to make the values atomic."
   ]
  },
  {
   "cell_type": "markdown",
   "id": "87b8822c-5fba-439a-b3e5-c240526b793c",
   "metadata": {},
   "source": [
    "Main Table:\n",
    "\n",
    "| patient_name       | date_of_birth | prescribed_drug | patient_sex | patient_insurance      | drug_maker               | drug_cost | attending_physician | AP_medschool                      | AP_years_experience | hospital                       | hospital_location |\n",
    "|--------------------|---------------|-----------------|-------------|------------------------|--------------------------|-----------|---------------------|-----------------------------------|--------------------|--------------------------------|-------------------|\n",
    "| Nkemdilim Arendonk | 2/21/1962     | Amoxil          | M           | Aetna                  | USAntibiotics            | 14.62     | Earnest Caro        | University of California (Irvine) | 14                 | UPMC Presbyterian Shadyside    | Pittsburgh, PA    |\n",
    "| Nkemdilim Arendonk | 2/21/1962     | Micronase       | M           | Aetna                  | Pfizer                   | 20.55     | Earnest Caro        | University of California (Irvine) | 14                 | UPMC Presbyterian Shadyside    | Pittsburgh, PA    |\n",
    "| Raniero Coumans    | 8/15/1990     | Zosyn           | M           | Cigna                  | Baxter International Inc | 394.00    | Pamela English      | University of Michigan            | 29                 | Northwestern Memorial Hospital | Chicago, IL       |\n",
    "| Raniero Coumans    | 8/15/1990     | Humira          | M           | Cigna                  | Abbvie                   | 7000.00   | Pamela English      | University of Michigan            | 29                 | Northwestern Memorial Hospital | Chicago, IL       |\n",
    "| Mizuki Debenham    | 3/12/1977     | Inlyta          | F           | Kaiser Permanente      | Pfizer                   | 21644.00  | Lewis Conti         | North Carolina State University   | 8                  | Houston Methodist Hospital     | Houston, TX       |\n",
    "| Zoë De Witt        | 11/23/1947    | Atenolol        | F           | Medicare               | Mylan Pharmaceuticals    | 10.58     | Theresa Dahlmans    | Lake Erie College of Medicine     | 17                 | Mount Sinai Hospital           | New York, NY      |\n",
    "| Zoë De Witt        | 11/23/1947    | Micronase       | F           | Medicare               | Pfizer                   | 20.55     | Theresa Dahlmans    | Lake Erie College of Medicine     | 17                 | Mount Sinai Hospital           | New York, NY      |\n",
    "| Zoë De Witt        | 11/23/1947    | Demerol         | F           | Medicare               | Pfizer                   | 37.50     | Theresa Dahlmans    | Lake Erie College of Medicine     | 17                 | Mount Sinai Hospital           | New York, NY      |\n",
    "| Bonnie Hooper      | 7/4/1951      | Xeloda          | F           | Blue Cross Blue Shield | Genentech                | 860.00    | Steven Garbutt      | Ohio State University             | 36                 | UCSF Medical Center            | San Francisco, CA |\n",
    "| Bonnie Hooper      | 7/4/1951      | Demerol         | F           | Blue Cross Blue Shield | Pfizer                   | 37.50     | Steven Garbutt      | Ohio State University             | 36                 | UCSF Medical Center            | San Francisco, CA |"
   ]
  },
  {
   "cell_type": "markdown",
   "id": "1a98a2d7-f2d8-4cc2-a7ca-f07cd76b7dfa",
   "metadata": {},
   "source": [
    "Conditions Table:\n",
    "\n",
    "| patient_name       | date_of_birth | condition        |\n",
    "|--------------------|---------------|------------------|\n",
    "| Nkemdilim Arendonk | 2/21/1962     | Pneumonia        |\n",
    "| Nkemdilim Arendonk | 2/21/1962     | Diabetes         |\n",
    "| Raniero Coumans    | 8/15/1990     | Appendicitis     |\n",
    "| Raniero Coumans    | 8/15/1990     | Crohn's disease  |\n",
    "| Mizuki Debenham    | 3/12/1977     | Kidney Cancer    |\n",
    "| Zoë De Witt        | 11/23/1947    | Cardiomyopathy   |\n",
    "| Zoë De Witt        | 11/23/1947    | Diabetes         |\n",
    "| Zoë De Witt        | 11/23/1947    | Sciatica         |\n",
    "| Bonnie Hooper      | 7/4/1951      | Pancreatic Cancer|\n",
    "| Bonnie Hooper      | 7/4/1951      | Sciatica         |"
   ]
  },
  {
   "cell_type": "markdown",
   "id": "0dd29124-d5cd-4c67-b483-8e0cc2b0bb00",
   "metadata": {},
   "source": [
    "#### Part b \n",
    "Rearrange the data on the five patients into a group of data tables that together meet the requirements of second normal form. [2 points]"
   ]
  },
  {
   "cell_type": "markdown",
   "id": "15c99914-3d02-47d2-949c-2611783b122c",
   "metadata": {},
   "source": [
    "To move to Second Normal Form (2NF), we need to eliminate partial dependecies. All non-key attributes must depend on the entire key, not just part of it.\n",
    "To achieve 2NF, we need to separate out the attributes that depend only on part of the primary key in the main table. To achieve that, I will create the following tables:\n",
    "1. Main Table:\n",
    "    * Primary Key: (patient_name, date_of_birth, prescribed_drug)\n",
    "    * patient_name\n",
    "    * date_of_birth\n",
    "    * prescribed_drug\n",
    "    * AP_medschool\n",
    "    * AP_years_experience\n",
    "    * hospital\n",
    "    * hospital_location\n",
    "2. Patient Table:\n",
    "    * Primary Key: (patient_name, date_of_birth)\n",
    "    * patient_name\n",
    "    * date_of_birth\n",
    "    * patient_sex\n",
    "    * patient_insurance\n",
    "    * attending_physician\n",
    "3. Drugs Table:\n",
    "    * Primary Key: prescribed_drug\n",
    "    * prescribed_drug\n",
    "    * drug_maker\n",
    "    * drug_cost\n",
    "4. Conditions Table (unchanged)"
   ]
  },
  {
   "cell_type": "markdown",
   "id": "cce398c9-fc1f-4aef-84ba-32173ad344c9",
   "metadata": {},
   "source": [
    "Main Table:\n",
    "| patient_name       | date_of_birth | prescribed_drug | AP_medschool                      | AP_years_experience | hospital                       | hospital_location |\n",
    "|--------------------|---------------|-----------------|-----------------------------------|--------------------|--------------------------------|-------------------|\n",
    "| Nkemdilim Arendonk | 2/21/1962     | Amoxil          | University of California (Irvine) | 14                 | UPMC Presbyterian Shadyside    | Pittsburgh, PA    |\n",
    "| Nkemdilim Arendonk | 2/21/1962     | Micronase       | University of California (Irvine) | 14                 | UPMC Presbyterian Shadyside    | Pittsburgh, PA    |\n",
    "| Raniero Coumans    | 8/15/1990     | Zosyn           | University of Michigan            | 29                 | Northwestern Memorial Hospital | Chicago, IL       |\n",
    "| Raniero Coumans    | 8/15/1990     | Humira          | University of Michigan            | 29                 | Northwestern Memorial Hospital | Chicago, IL       |\n",
    "| Mizuki Debenham    | 3/12/1977     | Inlyta          | North Carolina State University   | 8                  | Houston Methodist Hospital     | Houston, TX       |\n",
    "| Zoë De Witt        | 11/23/1947    | Atenolol        | Lake Erie College of Medicine     | 17                 | Mount Sinai Hospital           | New York, NY      |\n",
    "| Zoë De Witt        | 11/23/1947    | Micronase       | Lake Erie College of Medicine     | 17                 | Mount Sinai Hospital           | New York, NY      |\n",
    "| Zoë De Witt        | 11/23/1947    | Demerol         | Lake Erie College of Medicine     | 17                 | Mount Sinai Hospital           | New York, NY      |\n",
    "| Bonnie Hooper      | 7/4/1951      | Xeloda          | Ohio State University             | 36                 | UCSF Medical Center            | San Francisco, CA |\n",
    "| Bonnie Hooper      | 7/4/1951      | Demerol         | Ohio State University             | 36                 | UCSF Medical Center            | San Francisco, CA |\n"
   ]
  },
  {
   "cell_type": "markdown",
   "id": "177d208d-f8b8-45de-b69a-6044bf4bbac9",
   "metadata": {},
   "source": [
    "Patients Table (new):\n",
    "\n",
    "| patient_name       | date_of_birth | patient_sex | patient_insurance      | attending_physician |\n",
    "|--------------------|---------------|-------------|------------------------|---------------------|\n",
    "| Nkemdilim Arendonk | 2/21/1962     | M           | Aetna                  | Earnest Caro        |\n",
    "| Raniero Coumans    | 8/15/1990     | M           | Cigna                  | Pamela English      |\n",
    "| Mizuki Debenham    | 3/12/1977     | F           | Kaiser Permanente      | Lewis Conti         |\n",
    "| Zoë De Witt        | 11/23/1947    | F           | Medicare               | Theresa Dahlmans    |\n",
    "| Bonnie Hooper      | 7/4/1951      | F           | Blue Cross Blue Shield | Steven Garbutt      |"
   ]
  },
  {
   "cell_type": "markdown",
   "id": "f98c3d08-7434-459a-8153-63bceb1d3182",
   "metadata": {},
   "source": [
    "Drugs Table (new):\n",
    "\n",
    "| prescribed_drug | drug_maker               | drug_cost |\n",
    "|-----------------|--------------------------|-----------|\n",
    "| Amoxil          | USAntibiotics            | 14.62     |\n",
    "| Micronase       | Pfizer                   | 20.55     |\n",
    "| Zosyn           | Baxter International Inc | 394.00    |\n",
    "| Humira          | Abbvie                   | 7000.00   |\n",
    "| Inlyta          | Pfizer                   | 21644.00  |\n",
    "| Atenolol        | Mylan Pharmaceuticals    | 10.58     |\n",
    "| Demerol         | Pfizer                   | 37.50     |\n",
    "| Xeloda          | Genentech                | 860.00    |"
   ]
  },
  {
   "cell_type": "markdown",
   "id": "6312d3d9-9dd7-4e7a-a1e7-d90ee7365e9a",
   "metadata": {},
   "source": [
    "Conditions Table (unchanged from 1NF):\n",
    "\n",
    "| patient_name       | date_of_birth | condition        |\n",
    "|--------------------|---------------|------------------|\n",
    "| Nkemdilim Arendonk | 2/21/1962     | Pneumonia        |\n",
    "| Nkemdilim Arendonk | 2/21/1962     | Diabetes         |\n",
    "| Raniero Coumans    | 8/15/1990     | Appendicitis     |\n",
    "| Raniero Coumans    | 8/15/1990     | Crohn's disease  |\n",
    "| Mizuki Debenham    | 3/12/1977     | Kidney Cancer    |\n",
    "| Zoë De Witt        | 11/23/1947    | Cardiomyopathy   |\n",
    "| Zoë De Witt        | 11/23/1947    | Diabetes         |\n",
    "| Zoë De Witt        | 11/23/1947    | Sciatica         |\n",
    "| Bonnie Hooper      | 7/4/1951      | Pancreatic Cancer|\n",
    "| Bonnie Hooper      | 7/4/1951      | Sciatica         |"
   ]
  },
  {
   "cell_type": "markdown",
   "id": "865cdd2a-e8de-40a0-ab00-817ba4bc1b9e",
   "metadata": {},
   "source": [
    "Now, the data satisfies 2NF as all non-key attributes are fully functionally dependent on their respective primary keys. Separating patient information and drug information into their own tables, as these depended only on part of the original primary key. The main table maintains the full composite key from the original table, and includes all attributes that depend on the full key."
   ]
  },
  {
   "cell_type": "markdown",
   "id": "15156224-5dd5-46a9-aa8b-762f6e75d553",
   "metadata": {},
   "source": [
    "#### Part c \n",
    "Rearrange the data into a group of data tables that together meet the requirements of third normal form."
   ]
  },
  {
   "cell_type": "markdown",
   "id": "6fc7d057-37fc-4896-981d-ffa505b8cc30",
   "metadata": {},
   "source": [
    "To meet the requirements of Third Normal Form (3NF), we need to eliminate transitive dependencies. \n",
    "Looking at the 2NF tables, we can identify the following transitive dependincy:\n",
    "In the Main Table, AP_medschool, AP_years_experience, hospital and hospital_location depend on attending_physician.\n",
    "\n",
    "To resolve this, I will create a new table for the physicians.\n",
    "\n",
    "Physicians Table:\n",
    "* Primary Key: attending_physician\n",
    "* attending_physician\n",
    "* AP_medschool\n",
    "* AP_years_experience\n",
    "* hospital\n",
    "* hospital_location\n",
    "\n",
    "This leaves the Main Table with the following items (nothing but the key):\n",
    "Main Table:\n",
    "* Primary Key: (patient_name, date_of_birth, prescribed_drug)\n",
    "* patient_name\n",
    "* date_of_birth\n",
    "* prescribed_drug\n",
    "\n",
    "So now we have the following tables:"
   ]
  },
  {
   "cell_type": "markdown",
   "id": "5bdb4245-63a2-4f31-a791-3f502fa034cb",
   "metadata": {},
   "source": [
    "Physicians Table (new):\n",
    "\n",
    "| attending_physician | AP_medschool                      | AP_years_experience | hospital                       | hospital_location |\n",
    "|---------------------|-----------------------------------|--------------------|--------------------------------|-------------------|\n",
    "| Earnest Caro        | University of California (Irvine) | 14                 | UPMC Presbyterian Shadyside    | Pittsburgh, PA    |\n",
    "| Pamela English      | University of Michigan            | 29                 | Northwestern Memorial Hospital | Chicago, IL       |\n",
    "| Lewis Conti         | North Carolina State University   | 8                  | Houston Methodist Hospital     | Houston, TX       |\n",
    "| Theresa Dahlmans    | Lake Erie College of Medicine     | 17                 | Mount Sinai Hospital           | New York, NY      |\n",
    "| Steven Garbutt      | Ohio State University             | 36                 | UCSF Medical Center            | San Francisco, CA |\n"
   ]
  },
  {
   "cell_type": "markdown",
   "id": "76732b64-36ad-4838-9909-e4d498a483ca",
   "metadata": {},
   "source": [
    "Main Table (modified):\n",
    "\n",
    "| patient_name       | date_of_birth | prescribed_drug |\n",
    "|--------------------|---------------|-----------------|\n",
    "| Nkemdilim Arendonk | 2/21/1962     | Amoxil          |\n",
    "| Nkemdilim Arendonk | 2/21/1962     | Micronase       |\n",
    "| Raniero Coumans    | 8/15/1990     | Zosyn           |\n",
    "| Raniero Coumans    | 8/15/1990     | Humira          |\n",
    "| Mizuki Debenham    | 3/12/1977     | Inlyta          |\n",
    "| Zoë De Witt        | 11/23/1947    | Atenolol        |\n",
    "| Zoë De Witt        | 11/23/1947    | Micronase       |\n",
    "| Zoë De Witt        | 11/23/1947    | Demerol         |\n",
    "| Bonnie Hooper      | 7/4/1951      | Xeloda          |\n",
    "| Bonnie Hooper      | 7/4/1951      | Demerol         |"
   ]
  },
  {
   "cell_type": "markdown",
   "id": "628f640e-c931-47a3-b72c-5d8b50b6b166",
   "metadata": {},
   "source": [
    "Patients Table (unchanged from 2NF):\n",
    "\n",
    "| patient_name       | date_of_birth | patient_sex | patient_insurance      | attending_physician |\n",
    "|--------------------|---------------|-------------|------------------------|---------------------|\n",
    "| Nkemdilim Arendonk | 2/21/1962     | M           | Aetna                  | Earnest Caro        |\n",
    "| Raniero Coumans    | 8/15/1990     | M           | Cigna                  | Pamela English      |\n",
    "| Mizuki Debenham    | 3/12/1977     | F           | Kaiser Permanente      | Lewis Conti         |\n",
    "| Zoë De Witt        | 11/23/1947    | F           | Medicare               | Theresa Dahlmans    |\n",
    "| Bonnie Hooper      | 7/4/1951      | F           | Blue Cross Blue Shield | Steven Garbutt      |"
   ]
  },
  {
   "cell_type": "markdown",
   "id": "fd19c642-1b01-49b5-9544-5d4c9ca2d404",
   "metadata": {},
   "source": [
    "Drugs Table (unchanged from 2NF):\n",
    "\n",
    "| prescribed_drug | drug_maker               | drug_cost |\n",
    "|-----------------|--------------------------|-----------|\n",
    "| Amoxil          | USAntibiotics            | 14.62     |\n",
    "| Micronase       | Pfizer                   | 20.55     |\n",
    "| Zosyn           | Baxter International Inc | 394.00    |\n",
    "| Humira          | Abbvie                   | 7000.00   |\n",
    "| Inlyta          | Pfizer                   | 21644.00  |\n",
    "| Atenolol        | Mylan Pharmaceuticals    | 10.58     |\n",
    "| Demerol         | Pfizer                   | 37.50     |\n",
    "| Xeloda          | Genentech                | 860.00    |"
   ]
  },
  {
   "cell_type": "markdown",
   "id": "db97708c-badd-4af4-b96b-c60aa6f8cc80",
   "metadata": {},
   "source": [
    "Conditions Table (unchanged from 1NF):\n",
    "\n",
    "| patient_name       | date_of_birth | condition        |\n",
    "|--------------------|---------------|------------------|\n",
    "| Nkemdilim Arendonk | 2/21/1962     | Pneumonia        |\n",
    "| Nkemdilim Arendonk | 2/21/1962     | Diabetes         |\n",
    "| Raniero Coumans    | 8/15/1990     | Appendicitis     |\n",
    "| Raniero Coumans    | 8/15/1990     | Crohn's disease  |\n",
    "| Mizuki Debenham    | 3/12/1977     | Kidney Cancer    |\n",
    "| Zoë De Witt        | 11/23/1947    | Cardiomyopathy   |\n",
    "| Zoë De Witt        | 11/23/1947    | Diabetes         |\n",
    "| Zoë De Witt        | 11/23/1947    | Sciatica         |\n",
    "| Bonnie Hooper      | 7/4/1951      | Pancreatic Cancer|\n",
    "| Bonnie Hooper      | 7/4/1951      | Sciatica         |"
   ]
  },
  {
   "cell_type": "code",
   "execution_count": null,
   "id": "eda3f8c5-13b0-45f3-bb9c-b458014a1f23",
   "metadata": {},
   "outputs": [],
   "source": []
  }
 ],
 "metadata": {
  "kernelspec": {
   "display_name": "Python 3 (ipykernel)",
   "language": "python",
   "name": "python3"
  },
  "language_info": {
   "codemirror_mode": {
    "name": "ipython",
    "version": 3
   },
   "file_extension": ".py",
   "mimetype": "text/x-python",
   "name": "python",
   "nbconvert_exporter": "python",
   "pygments_lexer": "ipython3",
   "version": "3.12.2"
  }
 },
 "nbformat": 4,
 "nbformat_minor": 5
}
