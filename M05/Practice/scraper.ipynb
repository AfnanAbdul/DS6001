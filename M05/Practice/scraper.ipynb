{
 "cells": [
  {
   "cell_type": "code",
   "execution_count": 7,
   "id": "a5766626-22f9-44a3-a30b-0556cd57084a",
   "metadata": {},
   "outputs": [],
   "source": [
    "#import urllib2\n",
    "#import re\n",
    "from bs4 import BeautifulSoup\n",
    "import requests\n",
    "packtpub_url = \"http://www.packtpub.com/\""
   ]
  },
  {
   "cell_type": "code",
   "execution_count": null,
   "id": "f561472c-ce93-482f-9d0a-66e8feaa6d41",
   "metadata": {},
   "outputs": [],
   "source": []
  },
  {
   "cell_type": "code",
   "execution_count": null,
   "id": "07b6ccfc-98b7-4232-a898-ec9e11232b24",
   "metadata": {},
   "outputs": [],
   "source": []
  }
 ],
 "metadata": {
  "kernelspec": {
   "display_name": "Python 3 (ipykernel)",
   "language": "python",
   "name": "python3"
  },
  "language_info": {
   "codemirror_mode": {
    "name": "ipython",
    "version": 3
   },
   "file_extension": ".py",
   "mimetype": "text/x-python",
   "name": "python",
   "nbconvert_exporter": "python",
   "pygments_lexer": "ipython3",
   "version": "3.12.2"
  }
 },
 "nbformat": 4,
 "nbformat_minor": 5
}
