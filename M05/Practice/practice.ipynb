{
 "cells": [
  {
   "cell_type": "code",
   "execution_count": 1,
   "id": "b6794d79-380b-453b-ae00-8a2f06f3e7d0",
   "metadata": {},
   "outputs": [],
   "source": [
    "import numpy as np\n",
    "import pandas as pd\n",
    "import requests"
   ]
  },
  {
   "cell_type": "code",
   "execution_count": 4,
   "id": "579a72e5-beb9-4d65-a71a-fd32f4697e24",
   "metadata": {},
   "outputs": [
    {
     "data": {
      "text/plain": [
       "<Response [200]>"
      ]
     },
     "execution_count": 4,
     "metadata": {},
     "output_type": "execute_result"
    }
   ],
   "source": [
    "url = \"https://spinitron.com/WNRN\"\n",
    "headers = {'user-agent': 'Kropko class example (aa7dd@virginia.edu)'}\n",
    "r = requests.get(url, headers=headers)\n",
    "r"
   ]
  },
  {
   "cell_type": "code",
   "execution_count": 5,
   "id": "87d4e57c-698c-4d0e-a55a-7ea1a46d46b7",
   "metadata": {},
   "outputs": [
    {
     "name": "stdout",
     "output_type": "stream",
     "text": [
      "\n",
      "<!doctype html><html lang=\"en\">\n",
      "<head>\n",
      "    <meta charset=\"utf-8\">\n",
      "    <meta http-equiv=\"X-UA-Compatible\" content=\"IE=edge\">\n",
      "    <meta name=\"viewport\" content=\"width=device-width, initial-scale=1,maximum-scale=1\">\n",
      "    <title>WNRN – Independent Music Radio</title>\n",
      "    <meta name=\"description\" content=\"A member supported Independent Music Radio Station serving Central Virginia and the Shenandoah Valley\">\n",
      "\n",
      "    <link rel=\"apple-touch-icon\" href=\"apple-touch-icon.png\">\n",
      "                <meta name=\"csrf-param\" content=\"_csrf\">\n",
      "<meta name=\"csrf-token\" content=\"40QENgj9gobCcgjCyLSQcFWHjsvZaA1bNfWi8n5ZDlrSIUVDPMvEy7o8f6qC-Nw0Mc6-u70iOhxwrPGjHRVFOA==\">\n",
      "\n",
      "    <meta property=\"og:url\" content=\"/WNRN/\">\n",
      "<meta property=\"og:title\" content=\"WNRN – Independent Music Radio\">\n",
      "<meta property=\"og:description\" content=\"A member supported Independent Music Radio Station serving Central Virginia and the Shenandoah Valley\">\n",
      "<meta property=\"og:image\" content=\"https://spinitron.com/images/Station/13/1326-img_logo.2\n"
     ]
    }
   ],
   "source": [
    "print(r.text[0:1000])"
   ]
  },
  {
   "cell_type": "code",
   "execution_count": 6,
   "id": "7265e825-4284-4b44-813d-f2c483f6ea68",
   "metadata": {},
   "outputs": [],
   "source": [
    "from bs4 import BeautifulSoup"
   ]
  },
  {
   "cell_type": "code",
   "execution_count": 7,
   "id": "7b816208-7322-4ae5-adc6-bf773722bf61",
   "metadata": {},
   "outputs": [],
   "source": [
    "wnrn = BeautifulSoup(r.text, 'html')"
   ]
  },
  {
   "cell_type": "code",
   "execution_count": 8,
   "id": "a953beee-e591-4f4b-a93f-9c5821312539",
   "metadata": {},
   "outputs": [
    {
     "data": {
      "text/plain": [
       "<meta charset=\"utf-8\"/>"
      ]
     },
     "execution_count": 8,
     "metadata": {},
     "output_type": "execute_result"
    }
   ],
   "source": [
    "metatag = wnrn.meta\n",
    "metatag"
   ]
  },
  {
   "cell_type": "code",
   "execution_count": 9,
   "id": "8e57814b-ba41-4624-8bfc-830d405b1598",
   "metadata": {},
   "outputs": [
    {
     "data": {
      "text/plain": [
       "'utf-8'"
      ]
     },
     "execution_count": 9,
     "metadata": {},
     "output_type": "execute_result"
    }
   ],
   "source": [
    "metatag['charset']"
   ]
  },
  {
   "cell_type": "code",
   "execution_count": 10,
   "id": "c34685ef-ecac-4ebd-a24f-0c3b01b5d34d",
   "metadata": {},
   "outputs": [
    {
     "data": {
      "text/plain": [
       "<title>WNRN – Independent Music Radio</title>"
      ]
     },
     "execution_count": 10,
     "metadata": {},
     "output_type": "execute_result"
    }
   ],
   "source": [
    "titletag = wnrn.title\n",
    "titletag"
   ]
  },
  {
   "cell_type": "code",
   "execution_count": 11,
   "id": "4550f845-811f-496b-8a87-bd054b68e9b8",
   "metadata": {},
   "outputs": [
    {
     "data": {
      "text/plain": [
       "'WNRN – Independent Music Radio'"
      ]
     },
     "execution_count": 11,
     "metadata": {},
     "output_type": "execute_result"
    }
   ],
   "source": [
    "titletag.string"
   ]
  },
  {
   "cell_type": "code",
   "execution_count": 12,
   "id": "55361d63-3443-4049-9745-8dadb09ebe46",
   "metadata": {},
   "outputs": [
    {
     "data": {
      "text/plain": [
       "<span class=\"artist\">Raina  Douris</span>"
      ]
     },
     "execution_count": 12,
     "metadata": {},
     "output_type": "execute_result"
    }
   ],
   "source": [
    "spantag = wnrn.span\n",
    "spantag"
   ]
  },
  {
   "cell_type": "code",
   "execution_count": 13,
   "id": "4d97e29f-499b-432f-bef9-84ddb3c31289",
   "metadata": {},
   "outputs": [
    {
     "data": {
      "text/plain": [
       "<span class=\"song\">The World Cafe with</span>"
      ]
     },
     "execution_count": 13,
     "metadata": {},
     "output_type": "execute_result"
    }
   ],
   "source": [
    "spantag.find_next()"
   ]
  },
  {
   "cell_type": "code",
   "execution_count": 14,
   "id": "1cc2ffdb-5831-4ecf-aa20-c3ade470ca5c",
   "metadata": {},
   "outputs": [
    {
     "data": {
      "text/plain": [
       "<div class=\"info\"><span class=\"release\">NPR Music</span></div>"
      ]
     },
     "execution_count": 14,
     "metadata": {},
     "output_type": "execute_result"
    }
   ],
   "source": [
    "spantag.find_next().find_next()"
   ]
  },
  {
   "cell_type": "code",
   "execution_count": 15,
   "id": "5e2d5092-dc32-4026-a111-71469dc89dfb",
   "metadata": {},
   "outputs": [
    {
     "data": {
      "text/plain": [
       "[<span class=\"artist\">Raina  Douris</span>,\n",
       " <span class=\"song\">The World Cafe with</span>,\n",
       " <span class=\"release\">NPR Music</span>,\n",
       " <span class=\"artist\">Raina  Douris</span>,\n",
       " <span class=\"song\">The World Cafe with</span>,\n",
       " <span class=\"release\">NPR Music</span>,\n",
       " <span class=\"artist\">Raina  Douris</span>,\n",
       " <span class=\"song\">The World Cafe with</span>,\n",
       " <span class=\"release\">NPR Music</span>,\n",
       " <span class=\"artist\">Arctic Monkeys</span>,\n",
       " <span class=\"song\">Why'd You Only Call Me When You're High?</span>,\n",
       " <span class=\"release\">AM</span>]"
      ]
     },
     "execution_count": 15,
     "metadata": {},
     "output_type": "execute_result"
    }
   ],
   "source": [
    "spanlist = wnrn.find_all(\"span\")\n",
    "spanlist"
   ]
  },
  {
   "cell_type": "code",
   "execution_count": 16,
   "id": "669002a0-586d-4341-9d9e-547f5f74e203",
   "metadata": {},
   "outputs": [
    {
     "data": {
      "text/plain": [
       "[<span class=\"artist\">Raina  Douris</span>,\n",
       " <span class=\"artist\">Raina  Douris</span>,\n",
       " <span class=\"artist\">Raina  Douris</span>,\n",
       " <span class=\"artist\">Arctic Monkeys</span>]"
      ]
     },
     "execution_count": 16,
     "metadata": {},
     "output_type": "execute_result"
    }
   ],
   "source": [
    "artistlist = wnrn.find_all(\"span\", \"artist\")\n",
    "artistlist"
   ]
  },
  {
   "cell_type": "code",
   "execution_count": 17,
   "id": "7e10e212-ec5d-4560-a884-05b5b7f9919a",
   "metadata": {},
   "outputs": [
    {
     "data": {
      "text/plain": [
       "[<span class=\"song\">The World Cafe with</span>,\n",
       " <span class=\"song\">The World Cafe with</span>,\n",
       " <span class=\"song\">The World Cafe with</span>,\n",
       " <span class=\"song\">Why'd You Only Call Me When You're High?</span>]"
      ]
     },
     "execution_count": 17,
     "metadata": {},
     "output_type": "execute_result"
    }
   ],
   "source": [
    "songlist = wnrn.find_all(\"span\", \"song\")\n",
    "songlist"
   ]
  },
  {
   "cell_type": "code",
   "execution_count": 18,
   "id": "b9346d21-403a-49e6-95a2-9aacdc2edcba",
   "metadata": {},
   "outputs": [
    {
     "data": {
      "text/plain": [
       "[<span class=\"release\">NPR Music</span>,\n",
       " <span class=\"release\">NPR Music</span>,\n",
       " <span class=\"release\">NPR Music</span>,\n",
       " <span class=\"release\">AM</span>]"
      ]
     },
     "execution_count": 18,
     "metadata": {},
     "output_type": "execute_result"
    }
   ],
   "source": [
    "albumlist = wnrn.find_all(\"span\", \"release\")\n",
    "albumlist"
   ]
  },
  {
   "cell_type": "code",
   "execution_count": 19,
   "id": "48f6729f-7b71-419b-9bbc-ce77315ae006",
   "metadata": {},
   "outputs": [
    {
     "data": {
      "text/plain": [
       "[<td class=\"spin-time\"><a href=\"/WNRN/pl/19213111/World-Caf%C3%A9?sp=385841923\">7:02 PM</a></td>,\n",
       " <td class=\"spin-time\"><a href=\"/WNRN/pl/19213111/World-Caf%C3%A9?sp=385841071\">6:49 PM</a></td>,\n",
       " <td class=\"spin-time\"><a href=\"/WNRN/pl/19213111/World-Caf%C3%A9?sp=385840196\">6:35 PM</a></td>,\n",
       " <td class=\"spin-time\"><a href=\"/WNRN/pl/19213111/World-Caf%C3%A9?sp=385838056\">6:01 PM</a></td>]"
      ]
     },
     "execution_count": 19,
     "metadata": {},
     "output_type": "execute_result"
    }
   ],
   "source": [
    "timelist = wnrn.find_all(\"td\", \"spin-time\")\n",
    "timelist"
   ]
  },
  {
   "cell_type": "code",
   "execution_count": 20,
   "id": "b9fbad1a-c4ff-412d-be08-d5e343e72ef6",
   "metadata": {},
   "outputs": [
    {
     "name": "stdout",
     "output_type": "stream",
     "text": [
      "[<a class=\"buy-link\" data-vendor=\"apple\" href=\"#\" target=\"_blank\" title='View \"Raina  Douris - The World Cafe with\" on Apple'><div alt='View \"Raina  Douris - The World Cafe with\" on Apple' class=\"buy-icon buy-icon-apple\"></div></a>, <a class=\"buy-link\" data-vendor=\"amazon\" href=\"#\" target=\"_blank\" title='View \"Raina  Douris - The World Cafe with\" on Amazon'><div alt='View \"Raina  Douris - The World Cafe with\" on Amazon' class=\"buy-icon buy-icon-amazon\"></div></a>, <a class=\"buy-link\" data-vendor=\"spotify\" href=\"#\" target=\"_blank\" title='View \"Raina  Douris - The World Cafe with\" on Spotify'><div alt='View \"Raina  Douris - The World Cafe with\" on Spotify' class=\"buy-icon buy-icon-spotify\"></div></a>, <a class=\"buy-link\" data-vendor=\"apple\" href=\"#\" target=\"_blank\" title='View \"Raina  Douris - The World Cafe with\" on Apple'><div alt='View \"Raina  Douris - The World Cafe with\" on Apple' class=\"buy-icon buy-icon-apple\"></div></a>, <a class=\"buy-link\" data-vendor=\"amazon\" href=\"#\" target=\"_blank\" title='View \"Raina  Douris - The World Cafe with\" on Amazon'><div alt='View \"Raina  Douris - The World Cafe with\" on Amazon' class=\"buy-icon buy-icon-amazon\"></div></a>]\n"
     ]
    }
   ],
   "source": [
    "atags_title = wnrn.find_all(\"a\", title=True)\n",
    "print(atags_title[0:5]) # just show the first 6 elements"
   ]
  },
  {
   "cell_type": "code",
   "execution_count": 21,
   "id": "80b0dd53-6f1f-402a-b94f-69fa340a5130",
   "metadata": {},
   "outputs": [
    {
     "data": {
      "text/plain": [
       "['Raina  Douris', 'Raina  Douris', 'Raina  Douris', 'Arctic Monkeys']"
      ]
     },
     "execution_count": 21,
     "metadata": {},
     "output_type": "execute_result"
    }
   ],
   "source": [
    "artists = [a.string for a in artistlist]\n",
    "artists"
   ]
  },
  {
   "cell_type": "code",
   "execution_count": 22,
   "id": "e34a1850-d06c-4ab2-bdf1-c373c0c5debb",
   "metadata": {},
   "outputs": [],
   "source": [
    "songs = [a.string for a in songlist]\n",
    "albums = [a.string for a in albumlist]\n",
    "times = [a.string for a in timelist]"
   ]
  },
  {
   "cell_type": "code",
   "execution_count": 23,
   "id": "10be1765-6523-4caa-ac51-32d03eaae321",
   "metadata": {},
   "outputs": [
    {
     "data": {
      "text/html": [
       "<div>\n",
       "<style scoped>\n",
       "    .dataframe tbody tr th:only-of-type {\n",
       "        vertical-align: middle;\n",
       "    }\n",
       "\n",
       "    .dataframe tbody tr th {\n",
       "        vertical-align: top;\n",
       "    }\n",
       "\n",
       "    .dataframe thead th {\n",
       "        text-align: right;\n",
       "    }\n",
       "</style>\n",
       "<table border=\"1\" class=\"dataframe\">\n",
       "  <thead>\n",
       "    <tr style=\"text-align: right;\">\n",
       "      <th></th>\n",
       "      <th>time</th>\n",
       "      <th>artist</th>\n",
       "      <th>song</th>\n",
       "      <th>album</th>\n",
       "    </tr>\n",
       "  </thead>\n",
       "  <tbody>\n",
       "    <tr>\n",
       "      <th>0</th>\n",
       "      <td>7:02 PM</td>\n",
       "      <td>Raina  Douris</td>\n",
       "      <td>The World Cafe with</td>\n",
       "      <td>NPR Music</td>\n",
       "    </tr>\n",
       "    <tr>\n",
       "      <th>1</th>\n",
       "      <td>6:49 PM</td>\n",
       "      <td>Raina  Douris</td>\n",
       "      <td>The World Cafe with</td>\n",
       "      <td>NPR Music</td>\n",
       "    </tr>\n",
       "    <tr>\n",
       "      <th>2</th>\n",
       "      <td>6:35 PM</td>\n",
       "      <td>Raina  Douris</td>\n",
       "      <td>The World Cafe with</td>\n",
       "      <td>NPR Music</td>\n",
       "    </tr>\n",
       "    <tr>\n",
       "      <th>3</th>\n",
       "      <td>6:01 PM</td>\n",
       "      <td>Arctic Monkeys</td>\n",
       "      <td>Why'd You Only Call Me When You're High?</td>\n",
       "      <td>AM</td>\n",
       "    </tr>\n",
       "  </tbody>\n",
       "</table>\n",
       "</div>"
      ],
      "text/plain": [
       "      time          artist                                      song  \\\n",
       "0  7:02 PM   Raina  Douris                       The World Cafe with   \n",
       "1  6:49 PM   Raina  Douris                       The World Cafe with   \n",
       "2  6:35 PM   Raina  Douris                       The World Cafe with   \n",
       "3  6:01 PM  Arctic Monkeys  Why'd You Only Call Me When You're High?   \n",
       "\n",
       "       album  \n",
       "0  NPR Music  \n",
       "1  NPR Music  \n",
       "2  NPR Music  \n",
       "3         AM  "
      ]
     },
     "execution_count": 23,
     "metadata": {},
     "output_type": "execute_result"
    }
   ],
   "source": [
    "mydict = {'time':times,\n",
    "          'artist':artists,\n",
    "         'song':songs,\n",
    "         'album':albums}\n",
    "wnrn_df = pd.DataFrame(mydict)\n",
    "wnrn_df"
   ]
  },
  {
   "cell_type": "code",
   "execution_count": 24,
   "id": "4049cc37-2918-4303-ab48-1c41dee55c76",
   "metadata": {},
   "outputs": [
    {
     "data": {
      "text/plain": [
       "<div class=\"recent-playlists\">\n",
       "<h4>Recent</h4>\n",
       "<div class=\"grid-view\" id=\"w2\"><div class=\"summary\"></div>\n",
       "<table class=\"table table-bordered table-narrow\"><tbody>\n",
       "<tr data-key=\"0\"><td class=\"show-time\">6:00 AM</td><td></td><td><strong><a href=\"/WNRN/pl/19210806/WNRN\">WNRN</a></strong> (Music)</td></tr>\n",
       "<tr data-key=\"1\"><td class=\"show-time\">5:00 AM</td><td></td><td><strong><a href=\"/WNRN/pl/19210632/WNRN-7-8-24-5-00-AM\">WNRN 7/8/24, 5:00 AM</a></strong> with <a href=\"/WNRN/dj/104061/WNRN\">WNRN</a></td></tr>\n",
       "<tr data-key=\"2\"><td class=\"show-time\">4:00 AM</td><td></td><td><strong><a href=\"/WNRN/pl/19210582/WNRN-7-8-24-4-04-AM\">WNRN 7/8/24, 4:04 AM</a></strong> with <a href=\"/WNRN/dj/104061/WNRN\">WNRN</a></td></tr>\n",
       "<tr data-key=\"3\"><td class=\"show-time\">3:00 AM</td><td></td><td><strong><a href=\"/WNRN/pl/19210357/WNRN-7-8-24-3-01-AM\">WNRN 7/8/24, 3:01 AM</a></strong> with <a href=\"/WNRN/dj/104061/WNRN\">WNRN</a></td></tr>\n",
       "<tr data-key=\"4\"><td class=\"show-time\">12:00 AM</td><td></td><td><strong><a href=\"/WNRN/pl/19209855/WNRN\">WNRN</a></strong> (Music) with <a href=\"/WNRN/dj/104073/WNRN\">WNRN</a></td></tr>\n",
       "</tbody></table>\n",
       "</div></div>"
      ]
     },
     "execution_count": 24,
     "metadata": {},
     "output_type": "execute_result"
    }
   ],
   "source": [
    "recent = wnrn.find(\"div\", \"recent-playlists\")\n",
    "recent"
   ]
  },
  {
   "cell_type": "code",
   "execution_count": 25,
   "id": "36dca962-f0ff-4f7e-9dbe-e8e66d7cd213",
   "metadata": {},
   "outputs": [
    {
     "data": {
      "text/plain": [
       "[<a href=\"/WNRN/pl/19210806/WNRN\">WNRN</a>,\n",
       " <a href=\"/WNRN/pl/19210632/WNRN-7-8-24-5-00-AM\">WNRN 7/8/24, 5:00 AM</a>,\n",
       " <a href=\"/WNRN/dj/104061/WNRN\">WNRN</a>,\n",
       " <a href=\"/WNRN/pl/19210582/WNRN-7-8-24-4-04-AM\">WNRN 7/8/24, 4:04 AM</a>,\n",
       " <a href=\"/WNRN/dj/104061/WNRN\">WNRN</a>,\n",
       " <a href=\"/WNRN/pl/19210357/WNRN-7-8-24-3-01-AM\">WNRN 7/8/24, 3:01 AM</a>,\n",
       " <a href=\"/WNRN/dj/104061/WNRN\">WNRN</a>,\n",
       " <a href=\"/WNRN/pl/19209855/WNRN\">WNRN</a>,\n",
       " <a href=\"/WNRN/dj/104073/WNRN\">WNRN</a>]"
      ]
     },
     "execution_count": 25,
     "metadata": {},
     "output_type": "execute_result"
    }
   ],
   "source": [
    "recent_atags = recent.find_all(\"a\")\n",
    "recent_atags"
   ]
  },
  {
   "cell_type": "code",
   "execution_count": 26,
   "id": "073f7158-29b2-431b-826c-2c640091fec3",
   "metadata": {},
   "outputs": [
    {
     "data": {
      "text/plain": [
       "['/WNRN/pl/19210806/WNRN',\n",
       " '/WNRN/pl/19210632/WNRN-7-8-24-5-00-AM',\n",
       " '/WNRN/pl/19210582/WNRN-7-8-24-4-04-AM',\n",
       " '/WNRN/pl/19210357/WNRN-7-8-24-3-01-AM',\n",
       " '/WNRN/pl/19209855/WNRN']"
      ]
     },
     "execution_count": 26,
     "metadata": {},
     "output_type": "execute_result"
    }
   ],
   "source": [
    "wnrn_url = [pl['href'] for pl in recent_atags if \"/pl/\" in pl['href']]\n",
    "wnrn_url"
   ]
  },
  {
   "cell_type": "code",
   "execution_count": 28,
   "id": "820314d5-5296-4570-a7f3-8da8f6511038",
   "metadata": {},
   "outputs": [],
   "source": [
    "def wnrn_spider(url):\n",
    "    \"\"\"Perform web scraping for any WNRN playlist given the available link\"\"\"\n",
    "    \n",
    "    headers = {'user-agent': 'Kropko class example (aa7dd@virginia.edu)'}\n",
    "    r = requests.get(url, headers=headers)\n",
    "    wnrn = BeautifulSoup(r.text, 'html')\n",
    "    \n",
    "    artistlist = wnrn.find_all(\"span\", \"artist\")\n",
    "    songlist = wnrn.find_all(\"span\", \"song\")\n",
    "    albumlist = wnrn.find_all(\"span\", \"release\")\n",
    "    timelist = wnrn.find_all(\"td\", \"spin-time\")\n",
    "    \n",
    "    artists = [a.string for a in artistlist]\n",
    "    songs = [a.string for a in songlist]\n",
    "    albums = [a.string for a in albumlist]\n",
    "    times = [a.string for a in timelist]\n",
    "    \n",
    "    mydict = {'time':times, 'artist':artists, 'song':songs, 'album':albums}\n",
    "    wnrn_df = pd.DataFrame(mydict)\n",
    "    \n",
    "    return wnrn_df"
   ]
  },
  {
   "cell_type": "code",
   "execution_count": 29,
   "id": "e36d33cd-cbd2-457c-b8b8-7dfd04dd9f31",
   "metadata": {},
   "outputs": [
    {
     "data": {
      "text/html": [
       "<div>\n",
       "<style scoped>\n",
       "    .dataframe tbody tr th:only-of-type {\n",
       "        vertical-align: middle;\n",
       "    }\n",
       "\n",
       "    .dataframe tbody tr th {\n",
       "        vertical-align: top;\n",
       "    }\n",
       "\n",
       "    .dataframe thead th {\n",
       "        text-align: right;\n",
       "    }\n",
       "</style>\n",
       "<table border=\"1\" class=\"dataframe\">\n",
       "  <thead>\n",
       "    <tr style=\"text-align: right;\">\n",
       "      <th></th>\n",
       "      <th>time</th>\n",
       "      <th>artist</th>\n",
       "      <th>song</th>\n",
       "      <th>album</th>\n",
       "    </tr>\n",
       "  </thead>\n",
       "  <tbody>\n",
       "    <tr>\n",
       "      <th>0</th>\n",
       "      <td>6:01 AM</td>\n",
       "      <td>Blue Mountain</td>\n",
       "      <td>Mountain Girl</td>\n",
       "      <td>Dogs Days</td>\n",
       "    </tr>\n",
       "    <tr>\n",
       "      <th>1</th>\n",
       "      <td>6:05 AM</td>\n",
       "      <td>Yot Club</td>\n",
       "      <td>Human Nature</td>\n",
       "      <td>Rufus</td>\n",
       "    </tr>\n",
       "    <tr>\n",
       "      <th>2</th>\n",
       "      <td>6:09 AM</td>\n",
       "      <td>Willie Nelson</td>\n",
       "      <td>Made In Texas</td>\n",
       "      <td>The Border</td>\n",
       "    </tr>\n",
       "    <tr>\n",
       "      <th>3</th>\n",
       "      <td>6:12 AM</td>\n",
       "      <td>Eurythmics</td>\n",
       "      <td>Here Comes the Rain Again</td>\n",
       "      <td>Touch</td>\n",
       "    </tr>\n",
       "    <tr>\n",
       "      <th>4</th>\n",
       "      <td>6:17 AM</td>\n",
       "      <td>Black Pumas</td>\n",
       "      <td>Mrs. Postman</td>\n",
       "      <td>Chronicles Of A Diamond</td>\n",
       "    </tr>\n",
       "    <tr>\n",
       "      <th>...</th>\n",
       "      <td>...</td>\n",
       "      <td>...</td>\n",
       "      <td>...</td>\n",
       "      <td>...</td>\n",
       "    </tr>\n",
       "    <tr>\n",
       "      <th>162</th>\n",
       "      <td>5:37 PM</td>\n",
       "      <td>Sturgill Simpson</td>\n",
       "      <td>Keep it Between the Lines</td>\n",
       "      <td>A Sailor's Guide to Earth</td>\n",
       "    </tr>\n",
       "    <tr>\n",
       "      <th>163</th>\n",
       "      <td>5:41 PM</td>\n",
       "      <td>Phantogram</td>\n",
       "      <td>Cruel World</td>\n",
       "      <td>Three</td>\n",
       "    </tr>\n",
       "    <tr>\n",
       "      <th>164</th>\n",
       "      <td>5:44 PM</td>\n",
       "      <td>Rubblebucket</td>\n",
       "      <td>Stella The Begonia</td>\n",
       "      <td>(Single)</td>\n",
       "    </tr>\n",
       "    <tr>\n",
       "      <th>165</th>\n",
       "      <td>5:50 PM</td>\n",
       "      <td>Nick Lowe with Los Straightjackets</td>\n",
       "      <td>Went To A Party</td>\n",
       "      <td>Indoor Safari</td>\n",
       "    </tr>\n",
       "    <tr>\n",
       "      <th>166</th>\n",
       "      <td>5:53 PM</td>\n",
       "      <td>The War on Drugs</td>\n",
       "      <td>Up All Night</td>\n",
       "      <td>A Deeper Understanding</td>\n",
       "    </tr>\n",
       "  </tbody>\n",
       "</table>\n",
       "<p>167 rows × 4 columns</p>\n",
       "</div>"
      ],
      "text/plain": [
       "        time                              artist                       song  \\\n",
       "0    6:01 AM                       Blue Mountain              Mountain Girl   \n",
       "1    6:05 AM                            Yot Club               Human Nature   \n",
       "2    6:09 AM                       Willie Nelson              Made In Texas   \n",
       "3    6:12 AM                          Eurythmics  Here Comes the Rain Again   \n",
       "4    6:17 AM                         Black Pumas               Mrs. Postman   \n",
       "..       ...                                 ...                        ...   \n",
       "162  5:37 PM                    Sturgill Simpson  Keep it Between the Lines   \n",
       "163  5:41 PM                          Phantogram                Cruel World   \n",
       "164  5:44 PM                        Rubblebucket         Stella The Begonia   \n",
       "165  5:50 PM  Nick Lowe with Los Straightjackets            Went To A Party   \n",
       "166  5:53 PM                    The War on Drugs               Up All Night   \n",
       "\n",
       "                         album  \n",
       "0                    Dogs Days  \n",
       "1                        Rufus  \n",
       "2                   The Border  \n",
       "3                        Touch  \n",
       "4      Chronicles Of A Diamond  \n",
       "..                         ...  \n",
       "162  A Sailor's Guide to Earth  \n",
       "163                      Three  \n",
       "164                   (Single)  \n",
       "165              Indoor Safari  \n",
       "166     A Deeper Understanding  \n",
       "\n",
       "[167 rows x 4 columns]"
      ]
     },
     "execution_count": 29,
     "metadata": {},
     "output_type": "execute_result"
    }
   ],
   "source": [
    "wnrn2 = wnrn_spider('https://spinitron.com/' + wnrn_url[0])\n",
    "wnrn2"
   ]
  },
  {
   "cell_type": "code",
   "execution_count": 34,
   "id": "6fead00a-6b54-4f09-b799-f14aeee414e5",
   "metadata": {},
   "outputs": [],
   "source": [
    "wnrn_total_playlist = wnrn_df \n",
    "for w in wnrn_url:\n",
    "    moredata = wnrn_spider('https://spinitron.com/' + w) \n",
    "    wnrn_total_playlist = pd.concat([wnrn_total_playlist, moredata])"
   ]
  },
  {
   "cell_type": "code",
   "execution_count": 35,
   "id": "9ad3d33a-24c9-4a98-bbae-3957479c67d2",
   "metadata": {},
   "outputs": [
    {
     "data": {
      "text/html": [
       "<div>\n",
       "<style scoped>\n",
       "    .dataframe tbody tr th:only-of-type {\n",
       "        vertical-align: middle;\n",
       "    }\n",
       "\n",
       "    .dataframe tbody tr th {\n",
       "        vertical-align: top;\n",
       "    }\n",
       "\n",
       "    .dataframe thead th {\n",
       "        text-align: right;\n",
       "    }\n",
       "</style>\n",
       "<table border=\"1\" class=\"dataframe\">\n",
       "  <thead>\n",
       "    <tr style=\"text-align: right;\">\n",
       "      <th></th>\n",
       "      <th>time</th>\n",
       "      <th>artist</th>\n",
       "      <th>song</th>\n",
       "      <th>album</th>\n",
       "    </tr>\n",
       "  </thead>\n",
       "  <tbody>\n",
       "    <tr>\n",
       "      <th>0</th>\n",
       "      <td>7:02 PM</td>\n",
       "      <td>Raina  Douris</td>\n",
       "      <td>The World Cafe with</td>\n",
       "      <td>NPR Music</td>\n",
       "    </tr>\n",
       "    <tr>\n",
       "      <th>1</th>\n",
       "      <td>6:49 PM</td>\n",
       "      <td>Raina  Douris</td>\n",
       "      <td>The World Cafe with</td>\n",
       "      <td>NPR Music</td>\n",
       "    </tr>\n",
       "    <tr>\n",
       "      <th>2</th>\n",
       "      <td>6:35 PM</td>\n",
       "      <td>Raina  Douris</td>\n",
       "      <td>The World Cafe with</td>\n",
       "      <td>NPR Music</td>\n",
       "    </tr>\n",
       "    <tr>\n",
       "      <th>3</th>\n",
       "      <td>6:01 PM</td>\n",
       "      <td>Arctic Monkeys</td>\n",
       "      <td>Why'd You Only Call Me When You're High?</td>\n",
       "      <td>AM</td>\n",
       "    </tr>\n",
       "    <tr>\n",
       "      <th>0</th>\n",
       "      <td>6:01 AM</td>\n",
       "      <td>Blue Mountain</td>\n",
       "      <td>Mountain Girl</td>\n",
       "      <td>Dogs Days</td>\n",
       "    </tr>\n",
       "    <tr>\n",
       "      <th>...</th>\n",
       "      <td>...</td>\n",
       "      <td>...</td>\n",
       "      <td>...</td>\n",
       "      <td>...</td>\n",
       "    </tr>\n",
       "    <tr>\n",
       "      <th>42</th>\n",
       "      <td>2:42 AM</td>\n",
       "      <td>Alison Krauss</td>\n",
       "      <td>Oh, Atlanta</td>\n",
       "      <td>Now That I've Found You</td>\n",
       "    </tr>\n",
       "    <tr>\n",
       "      <th>43</th>\n",
       "      <td>2:47 AM</td>\n",
       "      <td>Radiohead</td>\n",
       "      <td>Lotus Flower</td>\n",
       "      <td>The King of Limbs</td>\n",
       "    </tr>\n",
       "    <tr>\n",
       "      <th>44</th>\n",
       "      <td>2:52 AM</td>\n",
       "      <td>Beach Bunny</td>\n",
       "      <td>Vertigo</td>\n",
       "      <td>(Single)</td>\n",
       "    </tr>\n",
       "    <tr>\n",
       "      <th>45</th>\n",
       "      <td>2:54 AM</td>\n",
       "      <td>Chris Kasper</td>\n",
       "      <td>Shuffle On Through</td>\n",
       "      <td>Sunlight In An Empty Room</td>\n",
       "    </tr>\n",
       "    <tr>\n",
       "      <th>46</th>\n",
       "      <td>2:57 AM</td>\n",
       "      <td>Hannah Jadagu</td>\n",
       "      <td>What Is Going On</td>\n",
       "      <td>What Is Going On?</td>\n",
       "    </tr>\n",
       "  </tbody>\n",
       "</table>\n",
       "<p>265 rows × 4 columns</p>\n",
       "</div>"
      ],
      "text/plain": [
       "       time          artist                                      song  \\\n",
       "0   7:02 PM   Raina  Douris                       The World Cafe with   \n",
       "1   6:49 PM   Raina  Douris                       The World Cafe with   \n",
       "2   6:35 PM   Raina  Douris                       The World Cafe with   \n",
       "3   6:01 PM  Arctic Monkeys  Why'd You Only Call Me When You're High?   \n",
       "0   6:01 AM   Blue Mountain                             Mountain Girl   \n",
       "..      ...             ...                                       ...   \n",
       "42  2:42 AM   Alison Krauss                               Oh, Atlanta   \n",
       "43  2:47 AM       Radiohead                              Lotus Flower   \n",
       "44  2:52 AM     Beach Bunny                                   Vertigo   \n",
       "45  2:54 AM    Chris Kasper                        Shuffle On Through   \n",
       "46  2:57 AM   Hannah Jadagu                          What Is Going On   \n",
       "\n",
       "                        album  \n",
       "0                   NPR Music  \n",
       "1                   NPR Music  \n",
       "2                   NPR Music  \n",
       "3                          AM  \n",
       "0                   Dogs Days  \n",
       "..                        ...  \n",
       "42    Now That I've Found You  \n",
       "43          The King of Limbs  \n",
       "44                   (Single)  \n",
       "45  Sunlight In An Empty Room  \n",
       "46          What Is Going On?  \n",
       "\n",
       "[265 rows x 4 columns]"
      ]
     },
     "execution_count": 35,
     "metadata": {},
     "output_type": "execute_result"
    }
   ],
   "source": [
    "wnrn_total_playlist"
   ]
  },
  {
   "cell_type": "code",
   "execution_count": null,
   "id": "2ac0f67b-d916-4305-87b1-058198dcfcdd",
   "metadata": {},
   "outputs": [],
   "source": []
  },
  {
   "cell_type": "code",
   "execution_count": null,
   "id": "4f988484-225d-4889-97fe-ed4403d3e837",
   "metadata": {},
   "outputs": [],
   "source": []
  }
 ],
 "metadata": {
  "kernelspec": {
   "display_name": "Python 3 (ipykernel)",
   "language": "python",
   "name": "python3"
  },
  "language_info": {
   "codemirror_mode": {
    "name": "ipython",
    "version": 3
   },
   "file_extension": ".py",
   "mimetype": "text/x-python",
   "name": "python",
   "nbconvert_exporter": "python",
   "pygments_lexer": "ipython3",
   "version": "3.12.4"
  }
 },
 "nbformat": 4,
 "nbformat_minor": 5
}
