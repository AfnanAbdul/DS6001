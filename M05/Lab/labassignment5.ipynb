{
 "cells": [
  {
   "cell_type": "markdown",
   "metadata": {},
   "source": [
    "# Lab Report 5: Web Scraping\n",
    "## Name: Afnan Alabdulwahab\n",
    "\n",
    "### Instructions\n",
    "Please answer the following questions as completely as possible using text, code, and the results of code as needed. Format your answers in a Jupyter notebook. To receive full credit, make sure you address every part of the problem, and make sure your document is formatted in a clean and professional way.\n",
    "\n",
    "For the following problems, you will be scraping http://books.toscrape.com/. This website is a fake book retailer, designed to mimic the design of many retail websites. It exists solely to help students practice web-scraping, so there aren’t going to be any ethical concerns with this particular exercise, and there shouldn’t be any issues with rate limits or other gates that could prevent web-scraping. Take a moment and look at this website, so that you know what you will be working with.\n",
    "\n",
    "Your goal is to generate a dataframe with four columns: one for the title, one for the price, one for the star-rating, and one or the book cover JPEG’s URL. The dataframe will also 1000 rows, one for each of the 1000 books listed on the 50 pages of this website."
   ]
  },
  {
   "cell_type": "markdown",
   "metadata": {},
   "source": [
    "## Problem 0\n",
    "Import the following libraries:"
   ]
  },
  {
   "cell_type": "code",
   "execution_count": 23,
   "metadata": {},
   "outputs": [],
   "source": [
    "import numpy as np\n",
    "import pandas as pd\n",
    "import requests\n",
    "from bs4 import BeautifulSoup\n",
    "import sys\n",
    "import json\n",
    "sys.tracebacklimit = 0 # turn off the error tracebacks"
   ]
  },
  {
   "cell_type": "markdown",
   "metadata": {},
   "source": [
    "## Problem 1"
   ]
  },
  {
   "cell_type": "markdown",
   "metadata": {},
   "source": [
    "The following code snippet retrieves the user agent string from the https://httpbin.org/user-agent endpoint and sets it as the User-Agent header for subsequent HTTP requests."
   ]
  },
  {
   "cell_type": "code",
   "execution_count": 2,
   "metadata": {},
   "outputs": [],
   "source": [
    "# retrive the user agent strng\n",
    "r = requests.get('https://httpbin.org/user-agent')\n",
    "useragent = json.loads(r.text)['user-agent']\n",
    "\n",
    "# define the header with the retrived user agent\n",
    "headers = {'User-Agent': useragent,\n",
    "           'From': 'aa7dd@virginia.ed'}"
   ]
  },
  {
   "cell_type": "markdown",
   "metadata": {},
   "source": [
    "Here, I send an HTTP GET request to http://books.toscrape.com using the headers parameter defined above and checking the response to the request."
   ]
  },
  {
   "cell_type": "code",
   "execution_count": 3,
   "metadata": {},
   "outputs": [
    {
     "data": {
      "text/plain": [
       "<Response [200]>"
      ]
     },
     "execution_count": 3,
     "metadata": {},
     "output_type": "execute_result"
    }
   ],
   "source": [
    "url = 'http://books.toscrape.com/'\n",
    "r = requests.get(url, headers=headers)\n",
    "r"
   ]
  },
  {
   "cell_type": "markdown",
   "metadata": {},
   "source": [
    "### Problem 2"
   ]
  },
  {
   "cell_type": "markdown",
   "metadata": {},
   "source": [
    "The following code parses the HTML content of the response object `r` using BeautfulSoup with 'html.parser' and saving the created object into `mysoup`."
   ]
  },
  {
   "cell_type": "code",
   "execution_count": 4,
   "metadata": {},
   "outputs": [],
   "source": [
    "mysoup = BeautifulSoup(r.text, 'html.parser')"
   ]
  },
  {
   "cell_type": "markdown",
   "metadata": {},
   "source": [
    "To extract all 20 book titles from the website, I examined the raw HTML and identified that the book titles are within the following HTML tags:\n",
    "\n",
    "```html\n",
    "<article class=\"product_pod\">\n",
    "    <div class=\"image_container\">\n",
    "        <a href=\"catalogue/a-light-in-the-attic_1000/index.html\"><img src=\"media/cache/2c/da/2cdad67c44b002e7ead0cc35693c0e8b.jpg\" alt=\"A Light in the Attic\" class=\"thumbnail\"></a>\n",
    "    </div>\n",
    "    <p class=\"star-rating Three\">\n",
    "        <i class=\"icon-star\"></i>\n",
    "        <i class=\"icon-star\"></i>\n",
    "        <i class=\"icon-star\"></i>\n",
    "        <i class=\"icon-star\"></i>\n",
    "        <i class=\"icon-star\"></i>\n",
    "    </p>\n",
    "    <h3><a href=\"catalogue/a-light-in-the-attic_1000/index.html\" title=\"A Light in the Attic\">A Light in the ...</a></h3>\n",
    "</article>\n",
    "```\n",
    "\n",
    "To extract the 20 book titles and save them in a list, I took the following steps:\n",
    "\n",
    "1. Used BeautifulSoup to find all `article` elements with the class `product_pod`.\n",
    "2. Extracted the book titles from the `title` attribute of the `a` tags within the `h3` tags of these `article` elements."
   ]
  },
  {
   "cell_type": "code",
   "execution_count": 5,
   "metadata": {},
   "outputs": [],
   "source": [
    "# Find all 'article' elements with the class 'product_pod' in the parsed HTML\n",
    "book_elements = mysoup.find_all('article', 'product_pod')"
   ]
  },
  {
   "cell_type": "code",
   "execution_count": 6,
   "metadata": {},
   "outputs": [
    {
     "data": {
      "text/plain": [
       "['A Light in the Attic',\n",
       " 'Tipping the Velvet',\n",
       " 'Soumission',\n",
       " 'Sharp Objects',\n",
       " 'Sapiens: A Brief History of Humankind',\n",
       " 'The Requiem Red',\n",
       " 'The Dirty Little Secrets of Getting Your Dream Job',\n",
       " 'The Coming Woman: A Novel Based on the Life of the Infamous Feminist, Victoria Woodhull',\n",
       " 'The Boys in the Boat: Nine Americans and Their Epic Quest for Gold at the 1936 Berlin Olympics',\n",
       " 'The Black Maria',\n",
       " 'Starving Hearts (Triangular Trade Trilogy, #1)',\n",
       " \"Shakespeare's Sonnets\",\n",
       " 'Set Me Free',\n",
       " \"Scott Pilgrim's Precious Little Life (Scott Pilgrim #1)\",\n",
       " 'Rip it Up and Start Again',\n",
       " 'Our Band Could Be Your Life: Scenes from the American Indie Underground, 1981-1991',\n",
       " 'Olio',\n",
       " 'Mesaerion: The Best Science Fiction Stories 1800-1849',\n",
       " 'Libertarianism for Beginners',\n",
       " \"It's Only the Himalayas\"]"
      ]
     },
     "execution_count": 6,
     "metadata": {},
     "output_type": "execute_result"
    }
   ],
   "source": [
    "booktitles = [x.h3.a['title'] for x in book_elements]\n",
    "booktitles"
   ]
  },
  {
   "cell_type": "markdown",
   "metadata": {},
   "source": [
    "### Problem 3"
   ]
  },
  {
   "cell_type": "markdown",
   "metadata": {},
   "source": [
    "To extract the prices of each of the 20 books and save them in a list, I examined the raw HTML and identified that the prices are within `p` tags with the class `price_color`:\n",
    "\n",
    "```html\n",
    "<article class=\"product_pod\">\n",
    "    <div class=\"image_container\">\n",
    "        <a href=\"catalogue/a-light-in-the-attic_1000/index.html\"><img src=\"media/cache/2c/da/2cdad67c44b002e7ead0cc35693c0e8b.jpg\" alt=\"A Light in the Attic\" class=\"thumbnail\"></a>\n",
    "    </div>\n",
    "    <p class=\"star-rating Three\">\n",
    "        <i class=\"icon-star\"></i>\n",
    "        <i class=\"icon-star\"></i>\n",
    "        <i class=\"icon-star\"></i>\n",
    "        <i class=\"icon-star\"></i>\n",
    "        <i class=\"icon-star\"></i>\n",
    "    </p>\n",
    "    <h3><a href=\"catalogue/a-light-in-the-attic_1000/index.html\" title=\"A Light in the Attic\">A Light in the ...</a></h3>\n",
    "    <div class=\"product_price\">\n",
    "        <p class=\"price_color\">£51.77</p>\n",
    "    </div>\n",
    "</article>\n",
    "```\n",
    "\n",
    "To extract the prices and save them in a list, I took the following steps:\n",
    "\n",
    "1. Used BeautifulSoup to find all `p` elements with the class `price_color`.\n",
    "2. Extracted the text content of these elements, which contains the prices."
   ]
  },
  {
   "cell_type": "code",
   "execution_count": 7,
   "metadata": {},
   "outputs": [
    {
     "data": {
      "text/plain": [
       "['Â£51.77',\n",
       " 'Â£53.74',\n",
       " 'Â£50.10',\n",
       " 'Â£47.82',\n",
       " 'Â£54.23',\n",
       " 'Â£22.65',\n",
       " 'Â£33.34',\n",
       " 'Â£17.93',\n",
       " 'Â£22.60',\n",
       " 'Â£52.15',\n",
       " 'Â£13.99',\n",
       " 'Â£20.66',\n",
       " 'Â£17.46',\n",
       " 'Â£52.29',\n",
       " 'Â£35.02',\n",
       " 'Â£57.25',\n",
       " 'Â£23.88',\n",
       " 'Â£37.59',\n",
       " 'Â£51.33',\n",
       " 'Â£45.17']"
      ]
     },
     "execution_count": 7,
     "metadata": {},
     "output_type": "execute_result"
    }
   ],
   "source": [
    "price_elements = mysoup.find_all('p', 'price_color')\n",
    "prices = [x.text for x in price_elements]\n",
    "prices"
   ]
  },
  {
   "cell_type": "markdown",
   "metadata": {},
   "source": [
    "3. Removed the `£` symbols from the prices."
   ]
  },
  {
   "cell_type": "code",
   "execution_count": 8,
   "metadata": {},
   "outputs": [
    {
     "data": {
      "text/plain": [
       "['51.77',\n",
       " '53.74',\n",
       " '50.10',\n",
       " '47.82',\n",
       " '54.23',\n",
       " '22.65',\n",
       " '33.34',\n",
       " '17.93',\n",
       " '22.60',\n",
       " '52.15',\n",
       " '13.99',\n",
       " '20.66',\n",
       " '17.46',\n",
       " '52.29',\n",
       " '35.02',\n",
       " '57.25',\n",
       " '23.88',\n",
       " '37.59',\n",
       " '51.33',\n",
       " '45.17']"
      ]
     },
     "execution_count": 8,
     "metadata": {},
     "output_type": "execute_result"
    }
   ],
   "source": [
    "prices = [s.replace('Â£', '') for s in prices]\n",
    "prices"
   ]
  },
  {
   "cell_type": "markdown",
   "metadata": {},
   "source": [
    "## Problem 4"
   ]
  },
  {
   "cell_type": "markdown",
   "metadata": {},
   "source": [
    "To extract the star level ratings for the 20 books, I examined the raw HTML and identified that the star ratings are within `p` tags with the class `star-rating`, where the second item in the class list indicates the rating (e.g., \"One\", \"Two\", \"Three\", etc.):\n",
    "\n",
    "```html\n",
    "<article class=\"product_pod\">\n",
    "    <div class=\"image_container\">\n",
    "        <a href=\"catalogue/a-light-in-the-attic_1000/index.html\"><img src=\"media/cache/2c/da/2cdad67c44b002e7ead0cc35693c0e8b.jpg\" alt=\"A Light in the Attic\" class=\"thumbnail\"></a>\n",
    "    </div>\n",
    "    <p class=\"star-rating Three\">\n",
    "        <i class=\"icon-star\"></i>\n",
    "        <i class=\"icon-star\"></i>\n",
    "        <i class=\"icon-star\"></i>\n",
    "        <i class=\"icon-star\"></i>\n",
    "        <i class=\"icon-star\"></i>\n",
    "    </p>\n",
    "    <h3><a href=\"catalogue/a-light-in-the-attic_1000/index.html\" title=\"A Light in the Attic\">A Light in the ...</a></h3>\n",
    "    <div class=\"product_price\">\n",
    "        <p class=\"price_color\">£51.77</p>\n",
    "    </div>\n",
    "</article>\n",
    "```\n",
    "\n",
    "To extract the star ratings and save them in a list, I took the following steps:\n",
    "\n",
    "1. Used the previously saved `book_elements` where I used BeautifulSoup to find all `article` elements with the class `product_pod`.\n",
    "2. Extracted the second item in the class list of the `p` tags within these `article` elements, which indicates the star rating."
   ]
  },
  {
   "cell_type": "code",
   "execution_count": 9,
   "metadata": {},
   "outputs": [
    {
     "data": {
      "text/plain": [
       "['Three',\n",
       " 'One',\n",
       " 'One',\n",
       " 'Four',\n",
       " 'Five',\n",
       " 'One',\n",
       " 'Four',\n",
       " 'Three',\n",
       " 'Four',\n",
       " 'One',\n",
       " 'Two',\n",
       " 'Four',\n",
       " 'Five',\n",
       " 'Five',\n",
       " 'Five',\n",
       " 'Three',\n",
       " 'One',\n",
       " 'One',\n",
       " 'Two',\n",
       " 'Two']"
      ]
     },
     "execution_count": 9,
     "metadata": {},
     "output_type": "execute_result"
    }
   ],
   "source": [
    "ratings = [x.p['class'][1] for x in book_elements]\n",
    "ratings"
   ]
  },
  {
   "cell_type": "markdown",
   "metadata": {},
   "source": [
    "## Problem 5"
   ]
  },
  {
   "cell_type": "markdown",
   "metadata": {},
   "source": [
    "To extract the URLs for the JPEG thumbnail images that show the covers of the 20 books, I examined the raw HTML and identified that the image URLs are within the `img` tags inside `a` tags within the `div` elements with the class `image_container`, which is withing the `article` tag with the class `product_pod`:\n",
    "\n",
    "```html\n",
    "<article class=\"product_pod\">\n",
    "    <div class=\"image_container\">\n",
    "        <a href=\"catalogue/a-light-in-the-attic_1000/index.html\">\n",
    "            <img src=\"media/cache/2c/da/2cdad67c44b002e7ead0cc35693c0e8b.jpg\" alt=\"A Light in the Attic\" class=\"thumbnail\">\n",
    "        </a>\n",
    "    </div>\n",
    "</article>\n",
    "```\n",
    "\n",
    "To extract the URLs for the JPEG thumbnails and save them in a list, I took the following steps:\n",
    "\n",
    "1. Defined the root URL of the website.\n",
    "2. Used the previously saved `book_elements` where I used BeautifulSoup to find all `article` elements with the class `product_pod`.\n",
    "3. Constructed the full URLs by concatenating the root URL with the `src` attribute of the `img` tags inside the `a` tags within the `div` elements."
   ]
  },
  {
   "cell_type": "code",
   "execution_count": 10,
   "metadata": {},
   "outputs": [],
   "source": [
    "root = 'http://books.toscrape.com/'"
   ]
  },
  {
   "cell_type": "code",
   "execution_count": 11,
   "metadata": {},
   "outputs": [
    {
     "data": {
      "text/plain": [
       "['http://books.toscrape.com/media/cache/2c/da/2cdad67c44b002e7ead0cc35693c0e8b.jpg',\n",
       " 'http://books.toscrape.com/media/cache/26/0c/260c6ae16bce31c8f8c95daddd9f4a1c.jpg',\n",
       " 'http://books.toscrape.com/media/cache/3e/ef/3eef99c9d9adef34639f510662022830.jpg',\n",
       " 'http://books.toscrape.com/media/cache/32/51/3251cf3a3412f53f339e42cac2134093.jpg',\n",
       " 'http://books.toscrape.com/media/cache/be/a5/bea5697f2534a2f86a3ef27b5a8c12a6.jpg',\n",
       " 'http://books.toscrape.com/media/cache/68/33/68339b4c9bc034267e1da611ab3b34f8.jpg',\n",
       " 'http://books.toscrape.com/media/cache/92/27/92274a95b7c251fea59a2b8a78275ab4.jpg',\n",
       " 'http://books.toscrape.com/media/cache/3d/54/3d54940e57e662c4dd1f3ff00c78cc64.jpg',\n",
       " 'http://books.toscrape.com/media/cache/66/88/66883b91f6804b2323c8369331cb7dd1.jpg',\n",
       " 'http://books.toscrape.com/media/cache/58/46/5846057e28022268153beff6d352b06c.jpg',\n",
       " 'http://books.toscrape.com/media/cache/be/f4/bef44da28c98f905a3ebec0b87be8530.jpg',\n",
       " 'http://books.toscrape.com/media/cache/10/48/1048f63d3b5061cd2f424d20b3f9b666.jpg',\n",
       " 'http://books.toscrape.com/media/cache/5b/88/5b88c52633f53cacf162c15f4f823153.jpg',\n",
       " 'http://books.toscrape.com/media/cache/94/b1/94b1b8b244bce9677c2f29ccc890d4d2.jpg',\n",
       " 'http://books.toscrape.com/media/cache/81/c4/81c4a973364e17d01f217e1188253d5e.jpg',\n",
       " 'http://books.toscrape.com/media/cache/54/60/54607fe8945897cdcced0044103b10b6.jpg',\n",
       " 'http://books.toscrape.com/media/cache/55/33/553310a7162dfbc2c6d19a84da0df9e1.jpg',\n",
       " 'http://books.toscrape.com/media/cache/09/a3/09a3aef48557576e1a85ba7efea8ecb7.jpg',\n",
       " 'http://books.toscrape.com/media/cache/0b/bc/0bbcd0a6f4bcd81ccb1049a52736406e.jpg',\n",
       " 'http://books.toscrape.com/media/cache/27/a5/27a53d0bb95bdd88288eaf66c9230d7e.jpg']"
      ]
     },
     "execution_count": 11,
     "metadata": {},
     "output_type": "execute_result"
    }
   ],
   "source": [
    "JPEGthumbnails = [root + x.a.img['src'] for x in book_elements]\n",
    "JPEGthumbnails "
   ]
  },
  {
   "cell_type": "markdown",
   "metadata": {},
   "source": [
    "## Problem 6"
   ]
  },
  {
   "cell_type": "markdown",
   "metadata": {},
   "source": [
    "To create a DataFrame with one row for each of the 20 books, including the book titles, prices, star ratings, and cover JPEG URLs as the four columns, I took the following steps:\n",
    "\n",
    "1. Created a dictionary to store the data for each column.\n",
    "2. Constructed the DataFrame from the dictionary."
   ]
  },
  {
   "cell_type": "code",
   "execution_count": 12,
   "metadata": {},
   "outputs": [
    {
     "data": {
      "text/html": [
       "<div>\n",
       "<style scoped>\n",
       "    .dataframe tbody tr th:only-of-type {\n",
       "        vertical-align: middle;\n",
       "    }\n",
       "\n",
       "    .dataframe tbody tr th {\n",
       "        vertical-align: top;\n",
       "    }\n",
       "\n",
       "    .dataframe thead th {\n",
       "        text-align: right;\n",
       "    }\n",
       "</style>\n",
       "<table border=\"1\" class=\"dataframe\">\n",
       "  <thead>\n",
       "    <tr style=\"text-align: right;\">\n",
       "      <th></th>\n",
       "      <th>titles</th>\n",
       "      <th>ratings</th>\n",
       "      <th>prices</th>\n",
       "      <th>cover</th>\n",
       "    </tr>\n",
       "  </thead>\n",
       "  <tbody>\n",
       "    <tr>\n",
       "      <th>0</th>\n",
       "      <td>A Light in the Attic</td>\n",
       "      <td>Three</td>\n",
       "      <td>51.77</td>\n",
       "      <td>http://books.toscrape.com/media/cache/2c/da/2c...</td>\n",
       "    </tr>\n",
       "    <tr>\n",
       "      <th>1</th>\n",
       "      <td>Tipping the Velvet</td>\n",
       "      <td>One</td>\n",
       "      <td>53.74</td>\n",
       "      <td>http://books.toscrape.com/media/cache/26/0c/26...</td>\n",
       "    </tr>\n",
       "    <tr>\n",
       "      <th>2</th>\n",
       "      <td>Soumission</td>\n",
       "      <td>One</td>\n",
       "      <td>50.10</td>\n",
       "      <td>http://books.toscrape.com/media/cache/3e/ef/3e...</td>\n",
       "    </tr>\n",
       "    <tr>\n",
       "      <th>3</th>\n",
       "      <td>Sharp Objects</td>\n",
       "      <td>Four</td>\n",
       "      <td>47.82</td>\n",
       "      <td>http://books.toscrape.com/media/cache/32/51/32...</td>\n",
       "    </tr>\n",
       "    <tr>\n",
       "      <th>4</th>\n",
       "      <td>Sapiens: A Brief History of Humankind</td>\n",
       "      <td>Five</td>\n",
       "      <td>54.23</td>\n",
       "      <td>http://books.toscrape.com/media/cache/be/a5/be...</td>\n",
       "    </tr>\n",
       "    <tr>\n",
       "      <th>5</th>\n",
       "      <td>The Requiem Red</td>\n",
       "      <td>One</td>\n",
       "      <td>22.65</td>\n",
       "      <td>http://books.toscrape.com/media/cache/68/33/68...</td>\n",
       "    </tr>\n",
       "    <tr>\n",
       "      <th>6</th>\n",
       "      <td>The Dirty Little Secrets of Getting Your Dream...</td>\n",
       "      <td>Four</td>\n",
       "      <td>33.34</td>\n",
       "      <td>http://books.toscrape.com/media/cache/92/27/92...</td>\n",
       "    </tr>\n",
       "    <tr>\n",
       "      <th>7</th>\n",
       "      <td>The Coming Woman: A Novel Based on the Life of...</td>\n",
       "      <td>Three</td>\n",
       "      <td>17.93</td>\n",
       "      <td>http://books.toscrape.com/media/cache/3d/54/3d...</td>\n",
       "    </tr>\n",
       "    <tr>\n",
       "      <th>8</th>\n",
       "      <td>The Boys in the Boat: Nine Americans and Their...</td>\n",
       "      <td>Four</td>\n",
       "      <td>22.60</td>\n",
       "      <td>http://books.toscrape.com/media/cache/66/88/66...</td>\n",
       "    </tr>\n",
       "    <tr>\n",
       "      <th>9</th>\n",
       "      <td>The Black Maria</td>\n",
       "      <td>One</td>\n",
       "      <td>52.15</td>\n",
       "      <td>http://books.toscrape.com/media/cache/58/46/58...</td>\n",
       "    </tr>\n",
       "    <tr>\n",
       "      <th>10</th>\n",
       "      <td>Starving Hearts (Triangular Trade Trilogy, #1)</td>\n",
       "      <td>Two</td>\n",
       "      <td>13.99</td>\n",
       "      <td>http://books.toscrape.com/media/cache/be/f4/be...</td>\n",
       "    </tr>\n",
       "    <tr>\n",
       "      <th>11</th>\n",
       "      <td>Shakespeare's Sonnets</td>\n",
       "      <td>Four</td>\n",
       "      <td>20.66</td>\n",
       "      <td>http://books.toscrape.com/media/cache/10/48/10...</td>\n",
       "    </tr>\n",
       "    <tr>\n",
       "      <th>12</th>\n",
       "      <td>Set Me Free</td>\n",
       "      <td>Five</td>\n",
       "      <td>17.46</td>\n",
       "      <td>http://books.toscrape.com/media/cache/5b/88/5b...</td>\n",
       "    </tr>\n",
       "    <tr>\n",
       "      <th>13</th>\n",
       "      <td>Scott Pilgrim's Precious Little Life (Scott Pi...</td>\n",
       "      <td>Five</td>\n",
       "      <td>52.29</td>\n",
       "      <td>http://books.toscrape.com/media/cache/94/b1/94...</td>\n",
       "    </tr>\n",
       "    <tr>\n",
       "      <th>14</th>\n",
       "      <td>Rip it Up and Start Again</td>\n",
       "      <td>Five</td>\n",
       "      <td>35.02</td>\n",
       "      <td>http://books.toscrape.com/media/cache/81/c4/81...</td>\n",
       "    </tr>\n",
       "    <tr>\n",
       "      <th>15</th>\n",
       "      <td>Our Band Could Be Your Life: Scenes from the A...</td>\n",
       "      <td>Three</td>\n",
       "      <td>57.25</td>\n",
       "      <td>http://books.toscrape.com/media/cache/54/60/54...</td>\n",
       "    </tr>\n",
       "    <tr>\n",
       "      <th>16</th>\n",
       "      <td>Olio</td>\n",
       "      <td>One</td>\n",
       "      <td>23.88</td>\n",
       "      <td>http://books.toscrape.com/media/cache/55/33/55...</td>\n",
       "    </tr>\n",
       "    <tr>\n",
       "      <th>17</th>\n",
       "      <td>Mesaerion: The Best Science Fiction Stories 18...</td>\n",
       "      <td>One</td>\n",
       "      <td>37.59</td>\n",
       "      <td>http://books.toscrape.com/media/cache/09/a3/09...</td>\n",
       "    </tr>\n",
       "    <tr>\n",
       "      <th>18</th>\n",
       "      <td>Libertarianism for Beginners</td>\n",
       "      <td>Two</td>\n",
       "      <td>51.33</td>\n",
       "      <td>http://books.toscrape.com/media/cache/0b/bc/0b...</td>\n",
       "    </tr>\n",
       "    <tr>\n",
       "      <th>19</th>\n",
       "      <td>It's Only the Himalayas</td>\n",
       "      <td>Two</td>\n",
       "      <td>45.17</td>\n",
       "      <td>http://books.toscrape.com/media/cache/27/a5/27...</td>\n",
       "    </tr>\n",
       "  </tbody>\n",
       "</table>\n",
       "</div>"
      ],
      "text/plain": [
       "                                               titles ratings prices  \\\n",
       "0                                A Light in the Attic   Three  51.77   \n",
       "1                                  Tipping the Velvet     One  53.74   \n",
       "2                                          Soumission     One  50.10   \n",
       "3                                       Sharp Objects    Four  47.82   \n",
       "4               Sapiens: A Brief History of Humankind    Five  54.23   \n",
       "5                                     The Requiem Red     One  22.65   \n",
       "6   The Dirty Little Secrets of Getting Your Dream...    Four  33.34   \n",
       "7   The Coming Woman: A Novel Based on the Life of...   Three  17.93   \n",
       "8   The Boys in the Boat: Nine Americans and Their...    Four  22.60   \n",
       "9                                     The Black Maria     One  52.15   \n",
       "10     Starving Hearts (Triangular Trade Trilogy, #1)     Two  13.99   \n",
       "11                              Shakespeare's Sonnets    Four  20.66   \n",
       "12                                        Set Me Free    Five  17.46   \n",
       "13  Scott Pilgrim's Precious Little Life (Scott Pi...    Five  52.29   \n",
       "14                          Rip it Up and Start Again    Five  35.02   \n",
       "15  Our Band Could Be Your Life: Scenes from the A...   Three  57.25   \n",
       "16                                               Olio     One  23.88   \n",
       "17  Mesaerion: The Best Science Fiction Stories 18...     One  37.59   \n",
       "18                       Libertarianism for Beginners     Two  51.33   \n",
       "19                            It's Only the Himalayas     Two  45.17   \n",
       "\n",
       "                                                cover  \n",
       "0   http://books.toscrape.com/media/cache/2c/da/2c...  \n",
       "1   http://books.toscrape.com/media/cache/26/0c/26...  \n",
       "2   http://books.toscrape.com/media/cache/3e/ef/3e...  \n",
       "3   http://books.toscrape.com/media/cache/32/51/32...  \n",
       "4   http://books.toscrape.com/media/cache/be/a5/be...  \n",
       "5   http://books.toscrape.com/media/cache/68/33/68...  \n",
       "6   http://books.toscrape.com/media/cache/92/27/92...  \n",
       "7   http://books.toscrape.com/media/cache/3d/54/3d...  \n",
       "8   http://books.toscrape.com/media/cache/66/88/66...  \n",
       "9   http://books.toscrape.com/media/cache/58/46/58...  \n",
       "10  http://books.toscrape.com/media/cache/be/f4/be...  \n",
       "11  http://books.toscrape.com/media/cache/10/48/10...  \n",
       "12  http://books.toscrape.com/media/cache/5b/88/5b...  \n",
       "13  http://books.toscrape.com/media/cache/94/b1/94...  \n",
       "14  http://books.toscrape.com/media/cache/81/c4/81...  \n",
       "15  http://books.toscrape.com/media/cache/54/60/54...  \n",
       "16  http://books.toscrape.com/media/cache/55/33/55...  \n",
       "17  http://books.toscrape.com/media/cache/09/a3/09...  \n",
       "18  http://books.toscrape.com/media/cache/0b/bc/0b...  \n",
       "19  http://books.toscrape.com/media/cache/27/a5/27...  "
      ]
     },
     "execution_count": 12,
     "metadata": {},
     "output_type": "execute_result"
    }
   ],
   "source": [
    "book_dict = {\n",
    "    'titles': booktitles,\n",
    "    'prices': prices,\n",
    "    'ratings': ratings,\n",
    "    'cover': JPEGthumbnails\n",
    "}\n",
    "\n",
    "book_df = pd.DataFrame.from_records(book_dict)\n",
    "\n",
    "# Reorder the columns\n",
    "book_df = book_df[['titles', 'ratings', 'prices', 'cover']]\n",
    "book_df"
   ]
  },
  {
   "cell_type": "markdown",
   "metadata": {},
   "source": [
    "## Problem 7"
   ]
  },
  {
   "cell_type": "markdown",
   "metadata": {},
   "source": [
    "This function takes a URL of a webpage to scrape as input. It retrieves data such as book titles, prices, ratings, and cover images from the specified URL using BeautifulSoup and generates a pandas DataFrame as output."
   ]
  },
  {
   "cell_type": "code",
   "execution_count": 17,
   "metadata": {},
   "outputs": [],
   "source": [
    "def bookscraper(url):\n",
    "    r = requests.get(url, headers=headers)\n",
    "    mysoup = BeautifulSoup(r.text, 'html.parser')\n",
    "    root = 'http://books.toscrape.com/'\n",
    "\n",
    "    book_dict = {}\n",
    "\n",
    "    book_elements = mysoup.find_all('article', 'product_pod')\n",
    "    book_dict['titles'] = [x.h3.a['title'] for x in book_elements]\n",
    "\n",
    "    price_elements = mysoup.find_all('p', 'price_color')\n",
    "    prices = [x.text for x in price_elements]\n",
    "    book_dict['prices'] = [s.replace('Â£', '') for s in prices]\n",
    "\n",
    "    book_dict['ratings'] = [x.p['class'][1] for x in book_elements]\n",
    "\n",
    "    book_dict['cover'] = [root + x.a.img['src'] for x in book_elements]\n",
    "\n",
    "    book_df = pd.DataFrame.from_records(book_dict)\n",
    "\n",
    "    # Reorder the columns\n",
    "    book_df = book_df[['titles', 'ratings', 'prices', 'cover']]\n",
    "    return book_df "
   ]
  },
  {
   "cell_type": "markdown",
   "metadata": {},
   "source": [
    "## Problem 8"
   ]
  },
  {
   "cell_type": "markdown",
   "metadata": {},
   "source": [
    "**To Scrape Multiple Pages of Book Data I took the following steps:**\n",
    "1. Created a list `booklinks` containing URLs for each of the 50 pages to scrape.\n",
    "2. Used a `for` loop to iterate through each URL in `booklinks`.\n",
    "3. Inside the loop, called the `bookscraper` function with each URL to retrieve a DataFrame `temp_df`.\n",
    "4. Concatenated `temp_df` with the main DataFrame `bookdf` using `pd.concat()`, ensuring all data is appended together.\""
   ]
  },
  {
   "cell_type": "code",
   "execution_count": 24,
   "metadata": {},
   "outputs": [
    {
     "data": {
      "text/plain": [
       "['http://books.toscrape.com/catalogue/page-1.html',\n",
       " 'http://books.toscrape.com/catalogue/page-2.html',\n",
       " 'http://books.toscrape.com/catalogue/page-3.html',\n",
       " 'http://books.toscrape.com/catalogue/page-4.html',\n",
       " 'http://books.toscrape.com/catalogue/page-5.html',\n",
       " 'http://books.toscrape.com/catalogue/page-6.html',\n",
       " 'http://books.toscrape.com/catalogue/page-7.html',\n",
       " 'http://books.toscrape.com/catalogue/page-8.html',\n",
       " 'http://books.toscrape.com/catalogue/page-9.html',\n",
       " 'http://books.toscrape.com/catalogue/page-10.html',\n",
       " 'http://books.toscrape.com/catalogue/page-11.html',\n",
       " 'http://books.toscrape.com/catalogue/page-12.html',\n",
       " 'http://books.toscrape.com/catalogue/page-13.html',\n",
       " 'http://books.toscrape.com/catalogue/page-14.html',\n",
       " 'http://books.toscrape.com/catalogue/page-15.html',\n",
       " 'http://books.toscrape.com/catalogue/page-16.html',\n",
       " 'http://books.toscrape.com/catalogue/page-17.html',\n",
       " 'http://books.toscrape.com/catalogue/page-18.html',\n",
       " 'http://books.toscrape.com/catalogue/page-19.html',\n",
       " 'http://books.toscrape.com/catalogue/page-20.html',\n",
       " 'http://books.toscrape.com/catalogue/page-21.html',\n",
       " 'http://books.toscrape.com/catalogue/page-22.html',\n",
       " 'http://books.toscrape.com/catalogue/page-23.html',\n",
       " 'http://books.toscrape.com/catalogue/page-24.html',\n",
       " 'http://books.toscrape.com/catalogue/page-25.html',\n",
       " 'http://books.toscrape.com/catalogue/page-26.html',\n",
       " 'http://books.toscrape.com/catalogue/page-27.html',\n",
       " 'http://books.toscrape.com/catalogue/page-28.html',\n",
       " 'http://books.toscrape.com/catalogue/page-29.html',\n",
       " 'http://books.toscrape.com/catalogue/page-30.html',\n",
       " 'http://books.toscrape.com/catalogue/page-31.html',\n",
       " 'http://books.toscrape.com/catalogue/page-32.html',\n",
       " 'http://books.toscrape.com/catalogue/page-33.html',\n",
       " 'http://books.toscrape.com/catalogue/page-34.html',\n",
       " 'http://books.toscrape.com/catalogue/page-35.html',\n",
       " 'http://books.toscrape.com/catalogue/page-36.html',\n",
       " 'http://books.toscrape.com/catalogue/page-37.html',\n",
       " 'http://books.toscrape.com/catalogue/page-38.html',\n",
       " 'http://books.toscrape.com/catalogue/page-39.html',\n",
       " 'http://books.toscrape.com/catalogue/page-40.html',\n",
       " 'http://books.toscrape.com/catalogue/page-41.html',\n",
       " 'http://books.toscrape.com/catalogue/page-42.html',\n",
       " 'http://books.toscrape.com/catalogue/page-43.html',\n",
       " 'http://books.toscrape.com/catalogue/page-44.html',\n",
       " 'http://books.toscrape.com/catalogue/page-45.html',\n",
       " 'http://books.toscrape.com/catalogue/page-46.html',\n",
       " 'http://books.toscrape.com/catalogue/page-47.html',\n",
       " 'http://books.toscrape.com/catalogue/page-48.html',\n",
       " 'http://books.toscrape.com/catalogue/page-49.html',\n",
       " 'http://books.toscrape.com/catalogue/page-50.html']"
      ]
     },
     "execution_count": 24,
     "metadata": {},
     "output_type": "execute_result"
    }
   ],
   "source": [
    "booklinks = [f'http://books.toscrape.com/catalogue/page-{i+1}.html' \\\n",
    "             for i in range(50)]\n",
    "booklinks "
   ]
  },
  {
   "cell_type": "code",
   "execution_count": 21,
   "metadata": {},
   "outputs": [
    {
     "data": {
      "text/html": [
       "<div>\n",
       "<style scoped>\n",
       "    .dataframe tbody tr th:only-of-type {\n",
       "        vertical-align: middle;\n",
       "    }\n",
       "\n",
       "    .dataframe tbody tr th {\n",
       "        vertical-align: top;\n",
       "    }\n",
       "\n",
       "    .dataframe thead th {\n",
       "        text-align: right;\n",
       "    }\n",
       "</style>\n",
       "<table border=\"1\" class=\"dataframe\">\n",
       "  <thead>\n",
       "    <tr style=\"text-align: right;\">\n",
       "      <th></th>\n",
       "      <th>titles</th>\n",
       "      <th>ratings</th>\n",
       "      <th>prices</th>\n",
       "      <th>cover</th>\n",
       "    </tr>\n",
       "  </thead>\n",
       "  <tbody>\n",
       "    <tr>\n",
       "      <th>0</th>\n",
       "      <td>A Light in the Attic</td>\n",
       "      <td>Three</td>\n",
       "      <td>51.77</td>\n",
       "      <td>http://books.toscrape.com/../media/cache/2c/da...</td>\n",
       "    </tr>\n",
       "    <tr>\n",
       "      <th>1</th>\n",
       "      <td>Tipping the Velvet</td>\n",
       "      <td>One</td>\n",
       "      <td>53.74</td>\n",
       "      <td>http://books.toscrape.com/../media/cache/26/0c...</td>\n",
       "    </tr>\n",
       "    <tr>\n",
       "      <th>2</th>\n",
       "      <td>Soumission</td>\n",
       "      <td>One</td>\n",
       "      <td>50.10</td>\n",
       "      <td>http://books.toscrape.com/../media/cache/3e/ef...</td>\n",
       "    </tr>\n",
       "    <tr>\n",
       "      <th>3</th>\n",
       "      <td>Sharp Objects</td>\n",
       "      <td>Four</td>\n",
       "      <td>47.82</td>\n",
       "      <td>http://books.toscrape.com/../media/cache/32/51...</td>\n",
       "    </tr>\n",
       "    <tr>\n",
       "      <th>4</th>\n",
       "      <td>Sapiens: A Brief History of Humankind</td>\n",
       "      <td>Five</td>\n",
       "      <td>54.23</td>\n",
       "      <td>http://books.toscrape.com/../media/cache/be/a5...</td>\n",
       "    </tr>\n",
       "    <tr>\n",
       "      <th>...</th>\n",
       "      <td>...</td>\n",
       "      <td>...</td>\n",
       "      <td>...</td>\n",
       "      <td>...</td>\n",
       "    </tr>\n",
       "    <tr>\n",
       "      <th>15</th>\n",
       "      <td>Alice in Wonderland (Alice's Adventures in Won...</td>\n",
       "      <td>One</td>\n",
       "      <td>55.53</td>\n",
       "      <td>http://books.toscrape.com/../media/cache/96/ee...</td>\n",
       "    </tr>\n",
       "    <tr>\n",
       "      <th>16</th>\n",
       "      <td>Ajin: Demi-Human, Volume 1 (Ajin: Demi-Human #1)</td>\n",
       "      <td>Four</td>\n",
       "      <td>57.06</td>\n",
       "      <td>http://books.toscrape.com/../media/cache/09/7c...</td>\n",
       "    </tr>\n",
       "    <tr>\n",
       "      <th>17</th>\n",
       "      <td>A Spy's Devotion (The Regency Spies of London #1)</td>\n",
       "      <td>Five</td>\n",
       "      <td>16.97</td>\n",
       "      <td>http://books.toscrape.com/../media/cache/1b/5f...</td>\n",
       "    </tr>\n",
       "    <tr>\n",
       "      <th>18</th>\n",
       "      <td>1st to Die (Women's Murder Club #1)</td>\n",
       "      <td>One</td>\n",
       "      <td>53.98</td>\n",
       "      <td>http://books.toscrape.com/../media/cache/2b/41...</td>\n",
       "    </tr>\n",
       "    <tr>\n",
       "      <th>19</th>\n",
       "      <td>1,000 Places to See Before You Die</td>\n",
       "      <td>Five</td>\n",
       "      <td>26.08</td>\n",
       "      <td>http://books.toscrape.com/../media/cache/d7/0f...</td>\n",
       "    </tr>\n",
       "  </tbody>\n",
       "</table>\n",
       "<p>1000 rows × 4 columns</p>\n",
       "</div>"
      ],
      "text/plain": [
       "                                               titles ratings prices  \\\n",
       "0                                A Light in the Attic   Three  51.77   \n",
       "1                                  Tipping the Velvet     One  53.74   \n",
       "2                                          Soumission     One  50.10   \n",
       "3                                       Sharp Objects    Four  47.82   \n",
       "4               Sapiens: A Brief History of Humankind    Five  54.23   \n",
       "..                                                ...     ...    ...   \n",
       "15  Alice in Wonderland (Alice's Adventures in Won...     One  55.53   \n",
       "16   Ajin: Demi-Human, Volume 1 (Ajin: Demi-Human #1)    Four  57.06   \n",
       "17  A Spy's Devotion (The Regency Spies of London #1)    Five  16.97   \n",
       "18                1st to Die (Women's Murder Club #1)     One  53.98   \n",
       "19                 1,000 Places to See Before You Die    Five  26.08   \n",
       "\n",
       "                                                cover  \n",
       "0   http://books.toscrape.com/../media/cache/2c/da...  \n",
       "1   http://books.toscrape.com/../media/cache/26/0c...  \n",
       "2   http://books.toscrape.com/../media/cache/3e/ef...  \n",
       "3   http://books.toscrape.com/../media/cache/32/51...  \n",
       "4   http://books.toscrape.com/../media/cache/be/a5...  \n",
       "..                                                ...  \n",
       "15  http://books.toscrape.com/../media/cache/96/ee...  \n",
       "16  http://books.toscrape.com/../media/cache/09/7c...  \n",
       "17  http://books.toscrape.com/../media/cache/1b/5f...  \n",
       "18  http://books.toscrape.com/../media/cache/2b/41...  \n",
       "19  http://books.toscrape.com/../media/cache/d7/0f...  \n",
       "\n",
       "[1000 rows x 4 columns]"
      ]
     },
     "execution_count": 21,
     "metadata": {},
     "output_type": "execute_result"
    }
   ],
   "source": [
    "bookdf = pd.DataFrame()\n",
    "for x in booklinks:\n",
    "    temp_df = bookscraper(x)\n",
    "    bookdf = pd.concat([bookdf, temp_df])\n",
    "bookdf"
   ]
  }
 ],
 "metadata": {
  "kernelspec": {
   "display_name": "Python 3 (ipykernel)",
   "language": "python",
   "name": "python3"
  },
  "language_info": {
   "codemirror_mode": {
    "name": "ipython",
    "version": 3
   },
   "file_extension": ".py",
   "mimetype": "text/x-python",
   "name": "python",
   "nbconvert_exporter": "python",
   "pygments_lexer": "ipython3",
   "version": "3.12.2"
  }
 },
 "nbformat": 4,
 "nbformat_minor": 4
}
