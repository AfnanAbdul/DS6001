{
 "cells": [
  {
   "cell_type": "code",
   "execution_count": 16,
   "id": "2e52567a-c1d3-4bc4-a62d-3b72ceb91de0",
   "metadata": {},
   "outputs": [],
   "source": [
    "import numpy as np\n",
    "import pandas as pd\n",
    "import matplotlib as plt\n",
    "import seaborn as sns\n",
    "import requests\n",
    "import plotly\n",
    "from bson import dumps, loads\n",
    "from bs4 import BeautifulSoup"
   ]
  },
  {
   "cell_type": "code",
   "execution_count": 2,
   "id": "9ba5a060-67ec-4527-8653-c7819c8eea8c",
   "metadata": {},
   "outputs": [
    {
     "data": {
      "text/plain": [
       "np.float64(1.6094379124341003)"
      ]
     },
     "execution_count": 2,
     "metadata": {},
     "output_type": "execute_result"
    }
   ],
   "source": [
    "np.log(5)"
   ]
  },
  {
   "cell_type": "code",
   "execution_count": 3,
   "id": "9287991b-fc60-44cc-b7ea-a3249710d02e",
   "metadata": {},
   "outputs": [
    {
     "data": {
      "text/plain": [
       "2"
      ]
     },
     "execution_count": 3,
     "metadata": {},
     "output_type": "execute_result"
    }
   ],
   "source": [
    "1 + 1"
   ]
  },
  {
   "cell_type": "code",
   "execution_count": 4,
   "id": "c553d4c6-c10e-41bb-ab6e-3d2c978f0e2b",
   "metadata": {},
   "outputs": [
    {
     "data": {
      "text/plain": [
       "7"
      ]
     },
     "execution_count": 4,
     "metadata": {},
     "output_type": "execute_result"
    }
   ],
   "source": [
    "2 + 5"
   ]
  },
  {
   "cell_type": "markdown",
   "id": "38190f65-d4d8-49e9-a386-45eeffa3a32f",
   "metadata": {},
   "source": [
    "I will now take the square root of 9"
   ]
  },
  {
   "cell_type": "code",
   "execution_count": 5,
   "id": "27d8a7a5-48d5-4d50-8c00-1f615ea6839a",
   "metadata": {},
   "outputs": [
    {
     "data": {
      "text/plain": [
       "3.0"
      ]
     },
     "execution_count": 5,
     "metadata": {},
     "output_type": "execute_result"
    }
   ],
   "source": [
    "import math\n",
    "math.sqrt(9)"
   ]
  },
  {
   "cell_type": "markdown",
   "id": "d1d760a4-978e-4433-a8c3-aff25fb63dd6",
   "metadata": {},
   "source": [
    "I just took the square root of 9 and it is 3."
   ]
  },
  {
   "cell_type": "code",
   "execution_count": 6,
   "id": "59922064-ae07-43ae-b227-a25e96ecf251",
   "metadata": {},
   "outputs": [],
   "source": [
    "virginia_gdp = 508662000000"
   ]
  },
  {
   "cell_type": "code",
   "execution_count": 7,
   "id": "9f277576-12c6-4116-bd95-4f8bca948300",
   "metadata": {},
   "outputs": [
    {
     "data": {
      "text/plain": [
       "63574.61244960645"
      ]
     },
     "execution_count": 7,
     "metadata": {},
     "output_type": "execute_result"
    }
   ],
   "source": [
    "virginia_gdp/8001024"
   ]
  },
  {
   "cell_type": "markdown",
   "id": "db8f3dc9-d9e3-439b-a71c-6ce3e641556c",
   "metadata": {},
   "source": [
    "# Title: The University of Virginia\n",
    "\n",
    "## Section: Introduction\n",
    "\n",
    "The **University of Virginia** (U.Va or UVA) is a public research university in [Charlottesville, Virginia](https://en.wikipedia.org/wiki/Charlottesville,_Virginia). It was founder in 1819 bu Uniter States *Declaration of Independence* author Thomas Jefferson.\n",
    "\n",
    "![](https://news.virginia.edu/sites/default/files/article_image/Rotunda_Copper_Dome_UTDA%5B1%5D_0.jpg)\n",
    "\n",
    "It is the flagship university of Virginia and home to Jefferson's Academical Village, a UNESCO World Heritage Site. UVA is known for its historic foundations, student-run honor code and ~~secret socities~~ championship basketball.\n",
    "\n",
    "### Subsection: Founders\n",
    "\n",
    "The original governing Board of Visitors included Jefferson, James Madison, and James Monroe who once said\n",
    "> The best form of government is that which is most likely to prevent the greatest sum of evil.\n",
    "\n",
    "Monroe was the sitting President of the United States at the time of its foundation and earlier Presidents Jefferson and Madison were UVA's first two rectors.\n",
    "\n",
    "### Subsection: History\n",
    "\n",
    "Jefferson conceived and designed the original courses of study and original architecture. UVA was the first university of the American South elected to the research-driven Association of American Universities in 1904. More than a century later, the journal Science credited UVA faculty with two of the top ten global scientific breakthroughs of 2015. The University of Virginia, along with the University at Buffalo, are the only two colleges founded by United States Presidents."
   ]
  },
  {
   "cell_type": "markdown",
   "id": "c3d31656-87a6-48a8-9b2c-47a3ff8c1bb1",
   "metadata": {},
   "source": [
    "* item 1\n",
    "* item 2\n",
    "  * item 2a\n",
    "  * item 2b\n",
    "    * item 2b, part 1\n",
    "    * item 2b, part 2\n",
    "* item 3"
   ]
  },
  {
   "cell_type": "markdown",
   "id": "3188748f-9fa2-4a42-a950-b9468ff42840",
   "metadata": {},
   "source": [
    "Next I will discuss the `pd.read_csv()` function"
   ]
  },
  {
   "cell_type": "markdown",
   "id": "093890d7-700f-4498-b8b9-bee8e1d946ee",
   "metadata": {},
   "source": [
    "```import math```\n",
    "\n",
    "```math.sqrt(9)```"
   ]
  },
  {
   "cell_type": "markdown",
   "id": "28b1bc06-3e43-432d-88ef-8c94465cac4c",
   "metadata": {},
   "source": [
    "$$ x=\\frac{-b \\pm \\sqrt{b^2 - 4ac}}{2a}$$"
   ]
  },
  {
   "cell_type": "markdown",
   "id": "fa187133-a3f6-4346-9312-0355c564185a",
   "metadata": {},
   "source": [
    "| Day       | High Temp | Low Temp |\n",
    "|-----------|-----------|----------|\n",
    "| Monday    | 93        | 79       |\n",
    "| Tuesday   | 88        | 73       |\n",
    "| Wednesday | 76        | 67       |\n",
    "| Thursday  | 89        | 84       |\n",
    "| Friday    | 101       | 82       |\n",
    "| Saturday  | 96        | 80       |\n",
    "| Sunday    | 85        | 72       |"
   ]
  },
  {
   "cell_type": "markdown",
   "id": "0df6ec64-931a-43b5-8441-31bda59423e6",
   "metadata": {},
   "source": [
    "# My faviorate math functions in Python\n",
    "\n",
    "* The natural logarithm *ln(x)* is `math.log(x)`\n",
    "    * The log base 10 $log_{10}(x)$, is `math.log10(x)`\n",
    "    * The log base a, $log_{a}(x)$, is `math.log(x, a)`\n",
    "* Trigomometric functions:\n",
    "| Function | Mathematical notation |    Python code    |\n",
    "|----------|-----------------------|-------------------|\n",
    "| Sine     | 𝑠𝑖𝑛(𝜃)                 | `math.sin(theta)` |\n",
    "| Cosine   | co𝑠𝑖𝑛(𝜃)               | `math.cos(theta)` |\n",
    "| Tangent  | tan(𝜃)                | `math.tan(theta)` |\n",
    "\n",
    "* $\\pi$ rounded to ten decimal places:\n",
    "\n",
    "    ```round(math.pi, 10)```"
   ]
  },
  {
   "cell_type": "code",
   "execution_count": 12,
   "id": "93059051-2af2-4c4b-9279-07686a65dfcc",
   "metadata": {},
   "outputs": [
    {
     "data": {
      "text/plain": [
       "209"
      ]
     },
     "execution_count": 12,
     "metadata": {},
     "output_type": "execute_result"
    }
   ],
   "source": [
    "my_string = \"We hold these truths to be self-evident, that all men are created equal, that they are endowed by their Creator with certain unalienable Rights, that among these are Life, Liberty and the pursuit of Happiness.\"\n",
    "len(my_string)"
   ]
  },
  {
   "cell_type": "code",
   "execution_count": 22,
   "id": "2b6e9a76-3701-4fa1-bcf1-79377717ac1a",
   "metadata": {
    "scrolled": true
   },
   "outputs": [
    {
     "data": {
      "text/html": [
       "<div>\n",
       "<style scoped>\n",
       "    .dataframe tbody tr th:only-of-type {\n",
       "        vertical-align: middle;\n",
       "    }\n",
       "\n",
       "    .dataframe tbody tr th {\n",
       "        vertical-align: top;\n",
       "    }\n",
       "\n",
       "    .dataframe thead th {\n",
       "        text-align: right;\n",
       "    }\n",
       "</style>\n",
       "<table border=\"1\" class=\"dataframe\">\n",
       "  <thead>\n",
       "    <tr style=\"text-align: right;\">\n",
       "      <th></th>\n",
       "      <th>day</th>\n",
       "      <th>high_temp</th>\n",
       "      <th>low_temp</th>\n",
       "    </tr>\n",
       "  </thead>\n",
       "  <tbody>\n",
       "    <tr>\n",
       "      <th>0</th>\n",
       "      <td>Sunday</td>\n",
       "      <td>87</td>\n",
       "      <td>74</td>\n",
       "    </tr>\n",
       "    <tr>\n",
       "      <th>1</th>\n",
       "      <td>Monday</td>\n",
       "      <td>80</td>\n",
       "      <td>68</td>\n",
       "    </tr>\n",
       "    <tr>\n",
       "      <th>2</th>\n",
       "      <td>Tuesday</td>\n",
       "      <td>91</td>\n",
       "      <td>78</td>\n",
       "    </tr>\n",
       "    <tr>\n",
       "      <th>3</th>\n",
       "      <td>Wednesday</td>\n",
       "      <td>102</td>\n",
       "      <td>85</td>\n",
       "    </tr>\n",
       "    <tr>\n",
       "      <th>4</th>\n",
       "      <td>Thursday</td>\n",
       "      <td>92</td>\n",
       "      <td>81</td>\n",
       "    </tr>\n",
       "    <tr>\n",
       "      <th>5</th>\n",
       "      <td>Friday</td>\n",
       "      <td>86</td>\n",
       "      <td>72</td>\n",
       "    </tr>\n",
       "    <tr>\n",
       "      <th>6</th>\n",
       "      <td>Saturday</td>\n",
       "      <td>78</td>\n",
       "      <td>61</td>\n",
       "    </tr>\n",
       "  </tbody>\n",
       "</table>\n",
       "</div>"
      ],
      "text/plain": [
       "         day  high_temp  low_temp\n",
       "0     Sunday         87        74\n",
       "1     Monday         80        68\n",
       "2    Tuesday         91        78\n",
       "3  Wednesday        102        85\n",
       "4   Thursday         92        81\n",
       "5     Friday         86        72\n",
       "6   Saturday         78        61"
      ]
     },
     "execution_count": 22,
     "metadata": {},
     "output_type": "execute_result"
    }
   ],
   "source": [
    "my_dict = {'day': ['Sunday', 'Monday', 'Tuesday', 'Wednesday', 'Thursday', 'Friday', 'Saturday'],\n",
    "         'high_temp': [87, 80, 91, 102, 92, 86, 78],\n",
    "         'low_temp': [74, 68, 78, 85, 81, 72, 61]}\n",
    "my_dataframe = pd.DataFrame(my_dict)\n",
    "my_dataframe"
   ]
  },
  {
   "cell_type": "code",
   "execution_count": 21,
   "id": "bc311843-53fb-4fbc-b39c-cbbd16c3be3e",
   "metadata": {
    "scrolled": true
   },
   "outputs": [
    {
     "data": {
      "text/html": [
       "<div>\n",
       "<style scoped>\n",
       "    .dataframe tbody tr th:only-of-type {\n",
       "        vertical-align: middle;\n",
       "    }\n",
       "\n",
       "    .dataframe tbody tr th {\n",
       "        vertical-align: top;\n",
       "    }\n",
       "\n",
       "    .dataframe thead th {\n",
       "        text-align: right;\n",
       "    }\n",
       "</style>\n",
       "<table border=\"1\" class=\"dataframe\">\n",
       "  <thead>\n",
       "    <tr style=\"text-align: right;\">\n",
       "      <th></th>\n",
       "      <th>day</th>\n",
       "      <th>high_temp</th>\n",
       "      <th>low_temp</th>\n",
       "    </tr>\n",
       "  </thead>\n",
       "  <tbody>\n",
       "    <tr>\n",
       "      <th>count</th>\n",
       "      <td>7</td>\n",
       "      <td>7.000000</td>\n",
       "      <td>7.000000</td>\n",
       "    </tr>\n",
       "    <tr>\n",
       "      <th>unique</th>\n",
       "      <td>7</td>\n",
       "      <td>NaN</td>\n",
       "      <td>NaN</td>\n",
       "    </tr>\n",
       "    <tr>\n",
       "      <th>top</th>\n",
       "      <td>Sunday</td>\n",
       "      <td>NaN</td>\n",
       "      <td>NaN</td>\n",
       "    </tr>\n",
       "    <tr>\n",
       "      <th>freq</th>\n",
       "      <td>1</td>\n",
       "      <td>NaN</td>\n",
       "      <td>NaN</td>\n",
       "    </tr>\n",
       "    <tr>\n",
       "      <th>mean</th>\n",
       "      <td>NaN</td>\n",
       "      <td>88.000000</td>\n",
       "      <td>74.142857</td>\n",
       "    </tr>\n",
       "    <tr>\n",
       "      <th>std</th>\n",
       "      <td>NaN</td>\n",
       "      <td>8.062258</td>\n",
       "      <td>8.112307</td>\n",
       "    </tr>\n",
       "    <tr>\n",
       "      <th>min</th>\n",
       "      <td>NaN</td>\n",
       "      <td>78.000000</td>\n",
       "      <td>61.000000</td>\n",
       "    </tr>\n",
       "    <tr>\n",
       "      <th>25%</th>\n",
       "      <td>NaN</td>\n",
       "      <td>83.000000</td>\n",
       "      <td>70.000000</td>\n",
       "    </tr>\n",
       "    <tr>\n",
       "      <th>50%</th>\n",
       "      <td>NaN</td>\n",
       "      <td>87.000000</td>\n",
       "      <td>74.000000</td>\n",
       "    </tr>\n",
       "    <tr>\n",
       "      <th>75%</th>\n",
       "      <td>NaN</td>\n",
       "      <td>91.500000</td>\n",
       "      <td>79.500000</td>\n",
       "    </tr>\n",
       "    <tr>\n",
       "      <th>max</th>\n",
       "      <td>NaN</td>\n",
       "      <td>102.000000</td>\n",
       "      <td>85.000000</td>\n",
       "    </tr>\n",
       "  </tbody>\n",
       "</table>\n",
       "</div>"
      ],
      "text/plain": [
       "           day   high_temp   low_temp\n",
       "count        7    7.000000   7.000000\n",
       "unique       7         NaN        NaN\n",
       "top     Sunday         NaN        NaN\n",
       "freq         1         NaN        NaN\n",
       "mean       NaN   88.000000  74.142857\n",
       "std        NaN    8.062258   8.112307\n",
       "min        NaN   78.000000  61.000000\n",
       "25%        NaN   83.000000  70.000000\n",
       "50%        NaN   87.000000  74.000000\n",
       "75%        NaN   91.500000  79.500000\n",
       "max        NaN  102.000000  85.000000"
      ]
     },
     "execution_count": 21,
     "metadata": {},
     "output_type": "execute_result"
    }
   ],
   "source": [
    "my_dataframe.describe(include='all')"
   ]
  },
  {
   "cell_type": "code",
   "execution_count": 23,
   "id": "403edaab-be45-493e-9b54-5d7f0b60ac38",
   "metadata": {},
   "outputs": [
    {
     "data": {
      "text/plain": [
       "day          object\n",
       "high_temp     int64\n",
       "low_temp      int64\n",
       "dtype: object"
      ]
     },
     "execution_count": 23,
     "metadata": {},
     "output_type": "execute_result"
    }
   ],
   "source": [
    "my_dataframe.dtypes"
   ]
  },
  {
   "cell_type": "code",
   "execution_count": 19,
   "id": "fa9cb13f-b299-4522-ae64-0900d3dae975",
   "metadata": {},
   "outputs": [
    {
     "data": {
      "text/html": [
       "<div>\n",
       "<style scoped>\n",
       "    .dataframe tbody tr th:only-of-type {\n",
       "        vertical-align: middle;\n",
       "    }\n",
       "\n",
       "    .dataframe tbody tr th {\n",
       "        vertical-align: top;\n",
       "    }\n",
       "\n",
       "    .dataframe thead th {\n",
       "        text-align: right;\n",
       "    }\n",
       "</style>\n",
       "<table border=\"1\" class=\"dataframe\">\n",
       "  <thead>\n",
       "    <tr style=\"text-align: right;\">\n",
       "      <th></th>\n",
       "      <th>episodes</th>\n",
       "      <th>titles</th>\n",
       "      <th>release_year</th>\n",
       "    </tr>\n",
       "  </thead>\n",
       "  <tbody>\n",
       "    <tr>\n",
       "      <th>0</th>\n",
       "      <td>Episode IV</td>\n",
       "      <td>(Episode IV, A New Hope)</td>\n",
       "      <td>1977</td>\n",
       "    </tr>\n",
       "    <tr>\n",
       "      <th>1</th>\n",
       "      <td>Episode V</td>\n",
       "      <td>(Episode V, The Empire Strikes Back)</td>\n",
       "      <td>1980</td>\n",
       "    </tr>\n",
       "    <tr>\n",
       "      <th>2</th>\n",
       "      <td>Episode VI</td>\n",
       "      <td>(Episode VI, Return of the Jedi)</td>\n",
       "      <td>1983</td>\n",
       "    </tr>\n",
       "    <tr>\n",
       "      <th>3</th>\n",
       "      <td>Episode I</td>\n",
       "      <td>(Episode I, The Phantom Menace)</td>\n",
       "      <td>1999</td>\n",
       "    </tr>\n",
       "    <tr>\n",
       "      <th>4</th>\n",
       "      <td>Episode II</td>\n",
       "      <td>(Episode II, Attack of the Clones)</td>\n",
       "      <td>2002</td>\n",
       "    </tr>\n",
       "    <tr>\n",
       "      <th>5</th>\n",
       "      <td>Episode III</td>\n",
       "      <td>(Episode III, Revenge of the Sith)</td>\n",
       "      <td>2005</td>\n",
       "    </tr>\n",
       "    <tr>\n",
       "      <th>6</th>\n",
       "      <td>Episode VII</td>\n",
       "      <td>(Episode VII, The Force Awakens)</td>\n",
       "      <td>2015</td>\n",
       "    </tr>\n",
       "    <tr>\n",
       "      <th>7</th>\n",
       "      <td>S1</td>\n",
       "      <td>(S1, Rogue One: A Star Wars Story)</td>\n",
       "      <td>2016</td>\n",
       "    </tr>\n",
       "    <tr>\n",
       "      <th>8</th>\n",
       "      <td>Episode VIII</td>\n",
       "      <td>(Episode VIII, The Last Jedi)</td>\n",
       "      <td>2017</td>\n",
       "    </tr>\n",
       "    <tr>\n",
       "      <th>9</th>\n",
       "      <td>S2</td>\n",
       "      <td>(S2, Solo: A Star Wars Story)</td>\n",
       "      <td>2018</td>\n",
       "    </tr>\n",
       "    <tr>\n",
       "      <th>10</th>\n",
       "      <td>Episode IX</td>\n",
       "      <td>(Episode IX, The Rise of Skywalker)</td>\n",
       "      <td>2019</td>\n",
       "    </tr>\n",
       "  </tbody>\n",
       "</table>\n",
       "</div>"
      ],
      "text/plain": [
       "        episodes                                titles  release_year\n",
       "0     Episode IV              (Episode IV, A New Hope)          1977\n",
       "1      Episode V  (Episode V, The Empire Strikes Back)          1980\n",
       "2     Episode VI      (Episode VI, Return of the Jedi)          1983\n",
       "3      Episode I       (Episode I, The Phantom Menace)          1999\n",
       "4     Episode II    (Episode II, Attack of the Clones)          2002\n",
       "5    Episode III    (Episode III, Revenge of the Sith)          2005\n",
       "6    Episode VII      (Episode VII, The Force Awakens)          2015\n",
       "7             S1    (S1, Rogue One: A Star Wars Story)          2016\n",
       "8   Episode VIII         (Episode VIII, The Last Jedi)          2017\n",
       "9             S2         (S2, Solo: A Star Wars Story)          2018\n",
       "10    Episode IX   (Episode IX, The Rise of Skywalker)          2019"
      ]
     },
     "execution_count": 19,
     "metadata": {},
     "output_type": "execute_result"
    }
   ],
   "source": [
    "star_wars = { 'episodes': ['Episode IV', 'Episode V', 'Episode VI', 'Episode I', 'Episode II', 'Episode III', 'Episode VII', 'S1', 'Episode VIII', 'S2', 'Episode IX'],\n",
    "             'titles': [('Episode IV', 'A New Hope'), ('Episode V', 'The Empire Strikes Back'), ('Episode VI', 'Return of the Jedi'), ('Episode I', 'The Phantom Menace'),\n",
    "                        ('Episode II', 'Attack of the Clones'), ('Episode III', 'Revenge of the Sith'), ('Episode VII', 'The Force Awakens'), ('S1', 'Rogue One: A Star Wars Story'),\n",
    "                        ('Episode VIII', 'The Last Jedi'), ('S2', 'Solo: A Star Wars Story'), ('Episode IX', 'The Rise of Skywalker')],\n",
    "             'release_year': [1977, 1980, 1983, 1999, 2002, 2005, 2015, 2016, 2017, 2018, 2019] }\n",
    "starwars_dataframe = pd.DataFrame(star_wars)\n",
    "starwars_dataframe \n"
   ]
  },
  {
   "cell_type": "code",
   "execution_count": 24,
   "id": "d9347e9f-e3b3-4210-a46f-2975dbff2f2c",
   "metadata": {},
   "outputs": [
    {
     "data": {
      "text/html": [
       "<div>\n",
       "<style scoped>\n",
       "    .dataframe tbody tr th:only-of-type {\n",
       "        vertical-align: middle;\n",
       "    }\n",
       "\n",
       "    .dataframe tbody tr th {\n",
       "        vertical-align: top;\n",
       "    }\n",
       "\n",
       "    .dataframe thead th {\n",
       "        text-align: right;\n",
       "    }\n",
       "</style>\n",
       "<table border=\"1\" class=\"dataframe\">\n",
       "  <thead>\n",
       "    <tr style=\"text-align: right;\">\n",
       "      <th></th>\n",
       "      <th>episodes</th>\n",
       "      <th>titles</th>\n",
       "      <th>release_year</th>\n",
       "    </tr>\n",
       "  </thead>\n",
       "  <tbody>\n",
       "    <tr>\n",
       "      <th>0</th>\n",
       "      <td>Episode IV</td>\n",
       "      <td>(Episode IV, A New Hope)</td>\n",
       "      <td>1977</td>\n",
       "    </tr>\n",
       "    <tr>\n",
       "      <th>1</th>\n",
       "      <td>Episode V</td>\n",
       "      <td>(Episode V, The Empire Strikes Back)</td>\n",
       "      <td>1980</td>\n",
       "    </tr>\n",
       "    <tr>\n",
       "      <th>2</th>\n",
       "      <td>Episode VI</td>\n",
       "      <td>(Episode VI, Return of the Jedi)</td>\n",
       "      <td>1983</td>\n",
       "    </tr>\n",
       "  </tbody>\n",
       "</table>\n",
       "</div>"
      ],
      "text/plain": [
       "     episodes                                titles  release_year\n",
       "0  Episode IV              (Episode IV, A New Hope)          1977\n",
       "1   Episode V  (Episode V, The Empire Strikes Back)          1980\n",
       "2  Episode VI      (Episode VI, Return of the Jedi)          1983"
      ]
     },
     "execution_count": 24,
     "metadata": {},
     "output_type": "execute_result"
    }
   ],
   "source": [
    "starwars_dataframe.head(3)"
   ]
  },
  {
   "cell_type": "code",
   "execution_count": 27,
   "id": "d77d38d1-d11d-4bd0-9209-b8ea01af5229",
   "metadata": {},
   "outputs": [
    {
     "data": {
      "text/plain": [
       "(11, 3)"
      ]
     },
     "execution_count": 27,
     "metadata": {},
     "output_type": "execute_result"
    }
   ],
   "source": [
    "starwars_dataframe.shape"
   ]
  },
  {
   "cell_type": "code",
   "execution_count": null,
   "id": "e5d88161-13d2-47ea-9374-1a73cb2a0726",
   "metadata": {},
   "outputs": [],
   "source": []
  }
 ],
 "metadata": {
  "kernelspec": {
   "display_name": "Python 3 (ipykernel)",
   "language": "python",
   "name": "python3"
  },
  "language_info": {
   "codemirror_mode": {
    "name": "ipython",
    "version": 3
   },
   "file_extension": ".py",
   "mimetype": "text/x-python",
   "name": "python",
   "nbconvert_exporter": "python",
   "pygments_lexer": "ipython3",
   "version": "3.12.4"
  }
 },
 "nbformat": 4,
 "nbformat_minor": 5
}
